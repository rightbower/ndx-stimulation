{
 "cells": [
  {
   "cell_type": "code",
   "execution_count": 1,
   "metadata": {},
   "outputs": [],
   "source": [
    "import datetime\n",
    "import inspect\n",
    "import numpy as np\n",
    "import pandas as pd\n",
    "\n",
    "from pynwb import NWBHDF5IO, NWBFile\n",
    "from pynwb.core import DynamicTableRegion, DynamicTable\n",
    "from pynwb.device import Device\n",
    "\n",
    "#from ndx_stimulation import StimulusFunctionTable\n",
    "import os\n",
    "\n",
    "from pynwb import register_class, load_namespaces\n",
    "from hdmf.utils import docval, call_docval_func, getargs, get_docval\n"
   ]
  },
  {
   "cell_type": "code",
   "execution_count": 2,
   "metadata": {},
   "outputs": [],
   "source": [
    "# Set path of the namespace.yaml file to the expected install location                                                  \n",
    "#ndx_stimulation_specpath = os.path.join(\n",
    "#    os.path.dirname(__file__),\n",
    "#    'spec',\n",
    "#    'ndx-stimulation.namespace.yaml'\n",
    "#)\n",
    "ndx_stimulation_specpath = '/Users/pam.baker/Documents/ndx_stim/ndx-stimulation/spec/ndx-stimulation.namespace.yaml'"
   ]
  },
  {
   "cell_type": "code",
   "execution_count": 3,
   "metadata": {},
   "outputs": [
    {
     "data": {
      "text/plain": [
       "{'ndx-stimulation': {'core': ('Container', 'DynamicTable'),\n",
       "  'hdmf-common': ('VectorIndex', 'VectorData')}}"
      ]
     },
     "execution_count": 3,
     "metadata": {},
     "output_type": "execute_result"
    }
   ],
   "source": [
    "# Load the namespace                                                                                                 \n",
    "load_namespaces(ndx_stimulation_specpath)"
   ]
  },
  {
   "cell_type": "code",
   "execution_count": 4,
   "metadata": {},
   "outputs": [],
   "source": [
    "@register_class('StimulusFunctionTable', 'ndx-stimulation')\n",
    "class StimulusFunctionTable(DynamicTable):   \n",
    "    \n",
    "    __columns__ = ( \n",
    "                    {'name':'function_name', \n",
    "                     'description': 'The names of the 1D stimulus waveforms.',\n",
    "                     'required': True,\n",
    "                     'index': False},\n",
    "                    {'name':'float_parameters', \n",
    "                     'description': 'The names of the float parameters for the 1D stimulus waveforms.',\n",
    "                     'required': True,\n",
    "                     'index': True},\n",
    "                    {'name':'function_parameters',\n",
    "                     'description': 'The function parameters for the 1D stimulus waveforms.',\n",
    "                     'required': True,\n",
    "                     'index': True}\n",
    "    )\n",
    "    \n",
    "    \n",
    "    @docval(*get_docval(DynamicTable.__init__, 'id', 'columns', 'colnames'))\n",
    "    def __init__(self, **kwargs):\n",
    "        kwargs['name'] = ('Stimulus Function Table')\n",
    "        kwargs['description'] = ('Table for storing ontologized 1D stimulus waveform metadata')\n",
    "        call_docval_func(super().__init__, kwargs)\n",
    "        "
   ]
  },
  {
   "cell_type": "code",
   "execution_count": 5,
   "metadata": {},
   "outputs": [],
   "source": [
    "sft = StimulusFunctionTable()"
   ]
  },
  {
   "cell_type": "code",
   "execution_count": 6,
   "metadata": {},
   "outputs": [],
   "source": [
    "float_params1 = [('amplitude', -0.110, 'V'), \n",
    "                 ('duration', 0.500, 's'),\n",
    "                 ('start_time', 0.1, 's')\n",
    "                ]\n",
    "\n",
    "float_params2 = [('amplitude', -0.090, 'V'), \n",
    "                 ('duration', 0.500, 's'),\n",
    "                 ('start_time', 0.1, 's')\n",
    "                ]\n",
    "\n",
    "wave1 = {'function_name':'sq', 'float_parameters': float_params1, 'function_parameters':[]}\n",
    "wave2 = {'function_name':'sq', 'float_parameters': float_params2, 'function_parameters':[]}\n",
    "\n",
    "sft.add_row(data = wave1)\n",
    "sft.add_row(data = wave2)"
   ]
  },
  {
   "cell_type": "code",
   "execution_count": 11,
   "metadata": {},
   "outputs": [
    {
     "data": {
      "text/html": [
       "<style type=\"text/css\">\n",
       "table.dataframe td, table.dataframe th {\n",
       "    border: 1px  black solid !important;\n",
       "  color: black !important;\n",
       "}\n",
       "</style>\n"
      ],
      "text/plain": [
       "<IPython.core.display.HTML object>"
      ]
     },
     "metadata": {},
     "output_type": "display_data"
    }
   ],
   "source": [
    "%%HTML\n",
    "<style type=\"text/css\">\n",
    "table.dataframe td, table.dataframe th {\n",
    "    border: 1px  black solid !important;\n",
    "  color: black !important;\n",
    "}\n",
    "</style>"
   ]
  },
  {
   "cell_type": "code",
   "execution_count": 14,
   "metadata": {},
   "outputs": [
    {
     "data": {
      "text/html": [
       "<div>\n",
       "<style scoped>\n",
       "    .dataframe tbody tr th:only-of-type {\n",
       "        vertical-align: middle;\n",
       "    }\n",
       "\n",
       "    .dataframe tbody tr th {\n",
       "        vertical-align: top;\n",
       "    }\n",
       "\n",
       "    .dataframe thead th {\n",
       "        text-align: right;\n",
       "    }\n",
       "</style>\n",
       "<table border=\"1\" class=\"dataframe\">\n",
       "  <thead>\n",
       "    <tr style=\"text-align: right;\">\n",
       "      <th></th>\n",
       "      <th>function_name</th>\n",
       "      <th>float_parameters</th>\n",
       "      <th>function_parameters</th>\n",
       "    </tr>\n",
       "    <tr>\n",
       "      <th>id</th>\n",
       "      <th></th>\n",
       "      <th></th>\n",
       "      <th></th>\n",
       "    </tr>\n",
       "  </thead>\n",
       "  <tbody>\n",
       "    <tr>\n",
       "      <td>0</td>\n",
       "      <td>sq</td>\n",
       "      <td>[(amplitude, -0.11, V), (duration, 0.5, s), (start_time, 0.1, s)]</td>\n",
       "      <td>[]</td>\n",
       "    </tr>\n",
       "    <tr>\n",
       "      <td>1</td>\n",
       "      <td>sq</td>\n",
       "      <td>[(amplitude, -0.09, V), (duration, 0.5, s), (start_time, 0.1, s)]</td>\n",
       "      <td>[]</td>\n",
       "    </tr>\n",
       "  </tbody>\n",
       "</table>\n",
       "</div>"
      ],
      "text/plain": [
       "   function_name  \\\n",
       "id                 \n",
       "0             sq   \n",
       "1             sq   \n",
       "\n",
       "                                                     float_parameters  \\\n",
       "id                                                                      \n",
       "0   [(amplitude, -0.11, V), (duration, 0.5, s), (start_time, 0.1, s)]   \n",
       "1   [(amplitude, -0.09, V), (duration, 0.5, s), (start_time, 0.1, s)]   \n",
       "\n",
       "   function_parameters  \n",
       "id                      \n",
       "0                   []  \n",
       "1                   []  "
      ]
     },
     "metadata": {},
     "output_type": "display_data"
    }
   ],
   "source": [
    "pd.set_option(\"display.max_colwidth\", 100)\n",
    "\n",
    "display(sft.to_dataframe())"
   ]
  },
  {
   "cell_type": "code",
   "execution_count": 9,
   "metadata": {},
   "outputs": [
    {
     "name": "stdout",
     "output_type": "stream",
     "text": [
      "('function_name', 'float_parameters', 'function_parameters')\n"
     ]
    }
   ],
   "source": [
    "print(sft.colnames)"
   ]
  },
  {
   "cell_type": "code",
   "execution_count": 15,
   "metadata": {},
   "outputs": [
    {
     "data": {
      "text/plain": [
       "<hdmf.common.table.VectorIndex at 0x123601a10>"
      ]
     },
     "execution_count": 15,
     "metadata": {},
     "output_type": "execute_result"
    }
   ],
   "source": [
    "sft['float_parameters']"
   ]
  },
  {
   "cell_type": "code",
   "execution_count": 33,
   "metadata": {},
   "outputs": [
    {
     "data": {
      "text/plain": [
       "<hdmf.common.table.VectorIndex at 0x11d601150>"
      ]
     },
     "execution_count": 33,
     "metadata": {},
     "output_type": "execute_result"
    }
   ],
   "source": [
    "sft.get('float_parameters')"
   ]
  },
  {
   "cell_type": "code",
   "execution_count": 16,
   "metadata": {},
   "outputs": [],
   "source": [
    "from datetime import datetime\n",
    "from dateutil.tz import tzlocal\n",
    "\n",
    "start_time = datetime(2017, 4, 3, 11, tzinfo=tzlocal())\n",
    "create_date = datetime(2017, 4, 15, 12, tzinfo=tzlocal())\n",
    "\n",
    "\n",
    "nwbfile = NWBFile('demonstrate caching', 'NWB456', start_time,\n",
    "                  file_create_date=create_date)\n",
    "\n",
    "nwbfile.add_acquisition(sft)\n"
   ]
  },
  {
   "cell_type": "code",
   "execution_count": 17,
   "metadata": {},
   "outputs": [],
   "source": [
    "# Write the SFT out to file\n",
    "\n",
    "from pynwb import NWBHDF5IO\n",
    "\n",
    "io = NWBHDF5IO('sft_cache_spec_example.nwb', mode='w')\n",
    "io.write(nwbfile)\n",
    "io.close()"
   ]
  },
  {
   "cell_type": "code",
   "execution_count": 39,
   "metadata": {},
   "outputs": [
    {
     "name": "stderr",
     "output_type": "stream",
     "text": [
      "/opt/anaconda3/lib/python3.7/site-packages/hdmf/spec/namespace.py:470: UserWarning: ignoring namespace 'hdmf-common' because it already exists\n",
      "  warn(\"ignoring namespace '%s' because it already exists\" % ns['name'])\n",
      "/opt/anaconda3/lib/python3.7/site-packages/hdmf/spec/namespace.py:470: UserWarning: ignoring namespace 'core' because it already exists\n",
      "  warn(\"ignoring namespace '%s' because it already exists\" % ns['name'])\n",
      "/opt/anaconda3/lib/python3.7/site-packages/hdmf/spec/namespace.py:470: UserWarning: ignoring namespace 'ndx-stimulation' because it already exists\n",
      "  warn(\"ignoring namespace '%s' because it already exists\" % ns['name'])\n"
     ]
    }
   ],
   "source": [
    "# Reading in the file I just wrote\n",
    "\n",
    "io = NWBHDF5IO('sft_cache_spec_example.nwb', mode='r', load_namespaces=True)\n",
    "sft_nwbfile = io.read()\n"
   ]
  },
  {
   "cell_type": "code",
   "execution_count": 64,
   "metadata": {},
   "outputs": [],
   "source": [
    "# print(sft_nwbfile.acquisition)\n",
    "\n",
    "sft_in = sft_nwbfile.get_acquisition()"
   ]
  },
  {
   "cell_type": "code",
   "execution_count": 42,
   "metadata": {},
   "outputs": [
    {
     "data": {
      "text/html": [
       "<div>\n",
       "<style scoped>\n",
       "    .dataframe tbody tr th:only-of-type {\n",
       "        vertical-align: middle;\n",
       "    }\n",
       "\n",
       "    .dataframe tbody tr th {\n",
       "        vertical-align: top;\n",
       "    }\n",
       "\n",
       "    .dataframe thead th {\n",
       "        text-align: right;\n",
       "    }\n",
       "</style>\n",
       "<table border=\"1\" class=\"dataframe\">\n",
       "  <thead>\n",
       "    <tr style=\"text-align: right;\">\n",
       "      <th></th>\n",
       "      <th>function_name</th>\n",
       "      <th>float_parameters</th>\n",
       "      <th>function_parameters</th>\n",
       "    </tr>\n",
       "    <tr>\n",
       "      <th>id</th>\n",
       "      <th></th>\n",
       "      <th></th>\n",
       "      <th></th>\n",
       "    </tr>\n",
       "  </thead>\n",
       "  <tbody>\n",
       "    <tr>\n",
       "      <td>0</td>\n",
       "      <td>sq</td>\n",
       "      <td>[[amplitude, 0.1, V], [duration, 0.5, s]]</td>\n",
       "      <td>[]</td>\n",
       "    </tr>\n",
       "  </tbody>\n",
       "</table>\n",
       "</div>"
      ],
      "text/plain": [
       "   function_name                           float_parameters  \\\n",
       "id                                                            \n",
       "0             sq  [[amplitude, 0.1, V], [duration, 0.5, s]]   \n",
       "\n",
       "   function_parameters  \n",
       "id                      \n",
       "0                   []  "
      ]
     },
     "execution_count": 42,
     "metadata": {},
     "output_type": "execute_result"
    }
   ],
   "source": [
    "sft_in.to_dataframe()"
   ]
  },
  {
   "cell_type": "code",
   "execution_count": 98,
   "metadata": {},
   "outputs": [
    {
     "data": {
      "text/plain": [
       "2"
      ]
     },
     "execution_count": 98,
     "metadata": {},
     "output_type": "execute_result"
    }
   ],
   "source": [
    "sft_in['float_parameters'].data[:][0]"
   ]
  },
  {
   "cell_type": "code",
   "execution_count": null,
   "metadata": {},
   "outputs": [],
   "source": []
  }
 ],
 "metadata": {
  "kernelspec": {
   "display_name": "Python 3",
   "language": "python",
   "name": "python3"
  },
  "language_info": {
   "codemirror_mode": {
    "name": "ipython",
    "version": 3
   },
   "file_extension": ".py",
   "mimetype": "text/x-python",
   "name": "python",
   "nbconvert_exporter": "python",
   "pygments_lexer": "ipython3",
   "version": "3.7.4"
  }
 },
 "nbformat": 4,
 "nbformat_minor": 2
}
