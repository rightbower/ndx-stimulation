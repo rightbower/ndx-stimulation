{
 "cells": [
  {
   "cell_type": "code",
   "execution_count": 22,
   "metadata": {},
   "outputs": [],
   "source": [
    "import datetime\n",
    "import inspect\n",
    "import numpy as np\n",
    "import pandas as pd\n",
    "\n",
    "from pynwb import NWBHDF5IO, NWBFile\n",
    "from pynwb.core import DynamicTableRegion, DynamicTable\n",
    "from pynwb.device import Device\n",
    "\n",
    "#from ndx_stimulation import StimulusFunctionTable\n",
    "import os\n",
    "\n",
    "from pynwb import register_class, load_namespaces\n",
    "from hdmf.utils import docval, call_docval_func, getargs, get_docval\n"
   ]
  },
  {
   "cell_type": "code",
   "execution_count": 23,
   "metadata": {},
   "outputs": [
    {
     "data": {
      "text/html": [
       "<style type=\"text/css\">\n",
       "table.dataframe td, table.dataframe th {\n",
       "    border: 1px  black solid !important;\n",
       "  color: black !important;\n",
       "}\n",
       "</style>\n"
      ],
      "text/plain": [
       "<IPython.core.display.HTML object>"
      ]
     },
     "metadata": {},
     "output_type": "display_data"
    }
   ],
   "source": [
    "%%HTML\n",
    "<style type=\"text/css\">\n",
    "table.dataframe td, table.dataframe th {\n",
    "    border: 1px  black solid !important;\n",
    "  color: black !important;\n",
    "}\n",
    "</style>"
   ]
  },
  {
   "cell_type": "code",
   "execution_count": 24,
   "metadata": {},
   "outputs": [
    {
     "data": {
      "text/plain": [
       "{'ndx-stimulation': {'core': ('Container', 'DynamicTable'),\n",
       "  'hdmf-common': ('VectorIndex', 'VectorData')}}"
      ]
     },
     "execution_count": 24,
     "metadata": {},
     "output_type": "execute_result"
    }
   ],
   "source": [
    "ndx_stimulation_specpath = '/Users/pam.baker/Documents/ndx_stim/ndx-stimulation/spec/ndx-stimulation.namespace.yaml'\n",
    "\n",
    "# Load the namespace                                                                                                 \n",
    "load_namespaces(ndx_stimulation_specpath)"
   ]
  },
  {
   "cell_type": "code",
   "execution_count": 25,
   "metadata": {},
   "outputs": [],
   "source": [
    "@register_class('StimulusFunctionTable', 'ndx-stimulation')\n",
    "class StimulusFunctionTable(DynamicTable):   \n",
    "    \n",
    "    __columns__ = ( \n",
    "                    {'name':'function_name', \n",
    "                     'description': 'The names of the 1D stimulus waveforms.',\n",
    "                     'required': True,\n",
    "                     'index': False},\n",
    "                    {'name':'float_parameters', \n",
    "                     'description': 'The names of the float parameters for the 1D stimulus waveforms.',\n",
    "                     'required': True,\n",
    "                     'index': True},\n",
    "                    {'name':'function_parameters',\n",
    "                     'description': 'The function parameters for the 1D stimulus waveforms.',\n",
    "                     'required': True,\n",
    "                     'index': True}\n",
    "    )\n",
    "    \n",
    "    \n",
    "    @docval(*get_docval(DynamicTable.__init__, 'id', 'columns', 'colnames'))\n",
    "    def __init__(self, **kwargs):\n",
    "        kwargs['name'] = ('Stimulus Function Table')\n",
    "        kwargs['description'] = ('Table for storing ontologized 1D stimulus waveform metadata')\n",
    "        call_docval_func(super().__init__, kwargs)\n",
    "        "
   ]
  },
  {
   "cell_type": "code",
   "execution_count": 26,
   "metadata": {},
   "outputs": [],
   "source": [
    "sft = StimulusFunctionTable()\n",
    "\n",
    "float_params1 = [('amplitude', -0.110, 'V'), \n",
    "                 ('duration', 0.500, 's'),\n",
    "                 ('start_time', 0.1, 's')\n",
    "                ]\n",
    "\n",
    "float_params2 = [('amplitude', -0.090, 'V'), \n",
    "                 ('duration', 1, 's'),\n",
    "                 ('start_time', 0.1, 's')\n",
    "                ]\n",
    "\n",
    "wave1 = {'function_name':'sq', 'float_parameters': float_params1, 'function_parameters': float_params2}\n",
    "wave2 = {'function_name':'sq', 'float_parameters': float_params2, 'function_parameters':[]}\n",
    "\n",
    "sft.add_row(data = wave1)\n",
    "sft.add_row(data = wave2)"
   ]
  },
  {
   "cell_type": "code",
   "execution_count": 6,
   "metadata": {},
   "outputs": [
    {
     "data": {
      "text/html": [
       "<div>\n",
       "<style scoped>\n",
       "    .dataframe tbody tr th:only-of-type {\n",
       "        vertical-align: middle;\n",
       "    }\n",
       "\n",
       "    .dataframe tbody tr th {\n",
       "        vertical-align: top;\n",
       "    }\n",
       "\n",
       "    .dataframe thead th {\n",
       "        text-align: right;\n",
       "    }\n",
       "</style>\n",
       "<table border=\"1\" class=\"dataframe\">\n",
       "  <thead>\n",
       "    <tr style=\"text-align: right;\">\n",
       "      <th></th>\n",
       "      <th>function_name</th>\n",
       "      <th>float_parameters</th>\n",
       "      <th>function_parameters</th>\n",
       "    </tr>\n",
       "    <tr>\n",
       "      <th>id</th>\n",
       "      <th></th>\n",
       "      <th></th>\n",
       "      <th></th>\n",
       "    </tr>\n",
       "  </thead>\n",
       "  <tbody>\n",
       "    <tr>\n",
       "      <th>0</th>\n",
       "      <td>sq</td>\n",
       "      <td>[(amplitude, -0.11, V), (duration, 0.5, s), (start_time, 0.1, s)]</td>\n",
       "      <td>[(amplitude, -0.09, V), (duration, 1, s), (start_time, 0.1, s)]</td>\n",
       "    </tr>\n",
       "    <tr>\n",
       "      <th>1</th>\n",
       "      <td>sq</td>\n",
       "      <td>[(amplitude, -0.09, V), (duration, 1, s), (start_time, 0.1, s)]</td>\n",
       "      <td>[]</td>\n",
       "    </tr>\n",
       "  </tbody>\n",
       "</table>\n",
       "</div>"
      ],
      "text/plain": [
       "   function_name  \\\n",
       "id                 \n",
       "0             sq   \n",
       "1             sq   \n",
       "\n",
       "                                                     float_parameters  \\\n",
       "id                                                                      \n",
       "0   [(amplitude, -0.11, V), (duration, 0.5, s), (start_time, 0.1, s)]   \n",
       "1     [(amplitude, -0.09, V), (duration, 1, s), (start_time, 0.1, s)]   \n",
       "\n",
       "                                                function_parameters  \n",
       "id                                                                   \n",
       "0   [(amplitude, -0.09, V), (duration, 1, s), (start_time, 0.1, s)]  \n",
       "1                                                                []  "
      ]
     },
     "metadata": {},
     "output_type": "display_data"
    }
   ],
   "source": [
    "pd.set_option(\"display.max_colwidth\", 100)\n",
    "\n",
    "display(sft.to_dataframe())"
   ]
  },
  {
   "cell_type": "code",
   "execution_count": 7,
   "metadata": {},
   "outputs": [
    {
     "data": {
      "text/plain": [
       "'V'"
      ]
     },
     "execution_count": 7,
     "metadata": {},
     "output_type": "execute_result"
    }
   ],
   "source": [
    "#yay = sft.get('function_name')\n",
    "#type(yay)\n",
    "\n",
    "#sft.get('float_parameters').data[:]\n",
    "sft['function_name'].data[:][0]\n",
    "sft['float_parameters'].target[0][2]"
   ]
  },
  {
   "cell_type": "markdown",
   "metadata": {},
   "source": [
    "### External Resources Table\n",
    "\n",
    "- Resources: eg ontology we are referencing\n",
    "- Entities: as defined by an entry in ontology/controlled terms\n",
    "- Keys: reference from object into the ER tables that maps onto entities (naming need not be unique)\n",
    "- Objects: thing we are ontologizing (eg ERT)\n"
   ]
  },
  {
   "cell_type": "code",
   "execution_count": 28,
   "metadata": {},
   "outputs": [],
   "source": [
    "from hdmf.common import ExternalResources\n",
    "from hdmf import Container, Data\n",
    "import pandas as pd"
   ]
  },
  {
   "cell_type": "code",
   "execution_count": 27,
   "metadata": {},
   "outputs": [],
   "source": [
    "er = ExternalResources(name='ExtResTable')"
   ]
  },
  {
   "cell_type": "code",
   "execution_count": 29,
   "metadata": {},
   "outputs": [
    {
     "name": "stdout",
     "output_type": "stream",
     "text": [
      "b160dba6-156c-4ff2-a461-50e6d179824d\n"
     ]
    }
   ],
   "source": [
    "object_id = sft.object_id\n",
    "print(object_id)"
   ]
  },
  {
   "cell_type": "code",
   "execution_count": 30,
   "metadata": {},
   "outputs": [
    {
     "data": {
      "text/plain": [
       "<hdmf.common.resources.Entity at 0x150c56f10>"
      ]
     },
     "execution_count": 30,
     "metadata": {},
     "output_type": "execute_result"
    }
   ],
   "source": [
    "# add_ref creates an entry across all tables (entities, keys, objects, resources)\n",
    "\n",
    "er.add_ref(container = object_id, \n",
    "           field='', \n",
    "           key='sq',\n",
    "           resource_name='stim_onto',\n",
    "           resource_uri='stim_onto_uri',\n",
    "           entity_id='sq',\n",
    "           entity_uri='sq_uri'\n",
    "          )\n",
    "\n",
    "er.add_ref(container = object_id, \n",
    "           field='', \n",
    "           key='duration',\n",
    "           resource_name='stim_onto',\n",
    "           resource_uri='stim_onto_uri',\n",
    "           entity_id='sq_duration',\n",
    "           entity_uri='sq_duration_uri'\n",
    "          )\n",
    "\n",
    "er.add_ref(container = object_id, \n",
    "           field='', \n",
    "           key='amplitude',\n",
    "           resource_name='stim_onto',\n",
    "           resource_uri='stim_onto_uri',\n",
    "           entity_id='sq_amplitude',\n",
    "           entity_uri='sq_amplitude_uri'\n",
    "          )\n",
    "\n",
    "er.add_ref(container = object_id, \n",
    "           field='', \n",
    "           key='start_time',\n",
    "           resource_name='stim_onto',\n",
    "           resource_uri='stim_onto_uri',\n",
    "           entity_id='sq_start_time',\n",
    "           entity_uri='sq_start_time_uri'\n",
    "          )\n"
   ]
  },
  {
   "cell_type": "code",
   "execution_count": 12,
   "metadata": {},
   "outputs": [
    {
     "data": {
      "text/html": [
       "<div>\n",
       "<style scoped>\n",
       "    .dataframe tbody tr th:only-of-type {\n",
       "        vertical-align: middle;\n",
       "    }\n",
       "\n",
       "    .dataframe tbody tr th {\n",
       "        vertical-align: top;\n",
       "    }\n",
       "\n",
       "    .dataframe thead th {\n",
       "        text-align: right;\n",
       "    }\n",
       "</style>\n",
       "<table border=\"1\" class=\"dataframe\">\n",
       "  <thead>\n",
       "    <tr style=\"text-align: right;\">\n",
       "      <th></th>\n",
       "      <th>resource</th>\n",
       "      <th>resource_uri</th>\n",
       "    </tr>\n",
       "  </thead>\n",
       "  <tbody>\n",
       "    <tr>\n",
       "      <th>0</th>\n",
       "      <td>stim_onto</td>\n",
       "      <td>stim_onto_uri</td>\n",
       "    </tr>\n",
       "    <tr>\n",
       "      <th>1</th>\n",
       "      <td>stim_onto</td>\n",
       "      <td>stim_onto_uri</td>\n",
       "    </tr>\n",
       "    <tr>\n",
       "      <th>2</th>\n",
       "      <td>stim_onto</td>\n",
       "      <td>stim_onto_uri</td>\n",
       "    </tr>\n",
       "    <tr>\n",
       "      <th>3</th>\n",
       "      <td>stim_onto</td>\n",
       "      <td>stim_onto_uri</td>\n",
       "    </tr>\n",
       "  </tbody>\n",
       "</table>\n",
       "</div>"
      ],
      "text/plain": [
       "    resource   resource_uri\n",
       "0  stim_onto  stim_onto_uri\n",
       "1  stim_onto  stim_onto_uri\n",
       "2  stim_onto  stim_onto_uri\n",
       "3  stim_onto  stim_onto_uri"
      ]
     },
     "execution_count": 12,
     "metadata": {},
     "output_type": "execute_result"
    }
   ],
   "source": [
    "er.resources.to_dataframe()"
   ]
  },
  {
   "cell_type": "code",
   "execution_count": 20,
   "metadata": {},
   "outputs": [
    {
     "data": {
      "text/html": [
       "<div>\n",
       "<style scoped>\n",
       "    .dataframe tbody tr th:only-of-type {\n",
       "        vertical-align: middle;\n",
       "    }\n",
       "\n",
       "    .dataframe tbody tr th {\n",
       "        vertical-align: top;\n",
       "    }\n",
       "\n",
       "    .dataframe thead th {\n",
       "        text-align: right;\n",
       "    }\n",
       "</style>\n",
       "<table border=\"1\" class=\"dataframe\">\n",
       "  <thead>\n",
       "    <tr style=\"text-align: right;\">\n",
       "      <th></th>\n",
       "      <th>keys_idx</th>\n",
       "      <th>resources_idx</th>\n",
       "      <th>entity_id</th>\n",
       "      <th>entity_uri</th>\n",
       "    </tr>\n",
       "  </thead>\n",
       "  <tbody>\n",
       "    <tr>\n",
       "      <th>0</th>\n",
       "      <td>0</td>\n",
       "      <td>0</td>\n",
       "      <td>sq</td>\n",
       "      <td>sq_uri</td>\n",
       "    </tr>\n",
       "    <tr>\n",
       "      <th>1</th>\n",
       "      <td>1</td>\n",
       "      <td>1</td>\n",
       "      <td>sq_duration</td>\n",
       "      <td>sq_duration_uri</td>\n",
       "    </tr>\n",
       "    <tr>\n",
       "      <th>2</th>\n",
       "      <td>2</td>\n",
       "      <td>2</td>\n",
       "      <td>sq_amplitude</td>\n",
       "      <td>sq_amplitude_uri</td>\n",
       "    </tr>\n",
       "    <tr>\n",
       "      <th>3</th>\n",
       "      <td>3</td>\n",
       "      <td>3</td>\n",
       "      <td>sq_start_time</td>\n",
       "      <td>sq_start_time_uri</td>\n",
       "    </tr>\n",
       "  </tbody>\n",
       "</table>\n",
       "</div>"
      ],
      "text/plain": [
       "   keys_idx  resources_idx      entity_id         entity_uri\n",
       "0         0              0             sq             sq_uri\n",
       "1         1              1    sq_duration    sq_duration_uri\n",
       "2         2              2   sq_amplitude   sq_amplitude_uri\n",
       "3         3              3  sq_start_time  sq_start_time_uri"
      ]
     },
     "execution_count": 20,
     "metadata": {},
     "output_type": "execute_result"
    }
   ],
   "source": [
    "er.entities.to_dataframe()"
   ]
  },
  {
   "cell_type": "code",
   "execution_count": 21,
   "metadata": {},
   "outputs": [
    {
     "data": {
      "text/html": [
       "<div>\n",
       "<style scoped>\n",
       "    .dataframe tbody tr th:only-of-type {\n",
       "        vertical-align: middle;\n",
       "    }\n",
       "\n",
       "    .dataframe tbody tr th {\n",
       "        vertical-align: top;\n",
       "    }\n",
       "\n",
       "    .dataframe thead th {\n",
       "        text-align: right;\n",
       "    }\n",
       "</style>\n",
       "<table border=\"1\" class=\"dataframe\">\n",
       "  <thead>\n",
       "    <tr style=\"text-align: right;\">\n",
       "      <th></th>\n",
       "      <th>key</th>\n",
       "    </tr>\n",
       "  </thead>\n",
       "  <tbody>\n",
       "    <tr>\n",
       "      <th>0</th>\n",
       "      <td>sq</td>\n",
       "    </tr>\n",
       "    <tr>\n",
       "      <th>1</th>\n",
       "      <td>duration</td>\n",
       "    </tr>\n",
       "    <tr>\n",
       "      <th>2</th>\n",
       "      <td>amplitude</td>\n",
       "    </tr>\n",
       "    <tr>\n",
       "      <th>3</th>\n",
       "      <td>start_time</td>\n",
       "    </tr>\n",
       "  </tbody>\n",
       "</table>\n",
       "</div>"
      ],
      "text/plain": [
       "          key\n",
       "0          sq\n",
       "1    duration\n",
       "2   amplitude\n",
       "3  start_time"
      ]
     },
     "execution_count": 21,
     "metadata": {},
     "output_type": "execute_result"
    }
   ],
   "source": [
    "er.keys.to_dataframe()"
   ]
  },
  {
   "cell_type": "code",
   "execution_count": 33,
   "metadata": {},
   "outputs": [
    {
     "data": {
      "text/html": [
       "<div>\n",
       "<style scoped>\n",
       "    .dataframe tbody tr th:only-of-type {\n",
       "        vertical-align: middle;\n",
       "    }\n",
       "\n",
       "    .dataframe tbody tr th {\n",
       "        vertical-align: top;\n",
       "    }\n",
       "\n",
       "    .dataframe thead th {\n",
       "        text-align: right;\n",
       "    }\n",
       "</style>\n",
       "<table border=\"1\" class=\"dataframe\">\n",
       "  <thead>\n",
       "    <tr style=\"text-align: right;\">\n",
       "      <th></th>\n",
       "      <th>key</th>\n",
       "    </tr>\n",
       "  </thead>\n",
       "  <tbody>\n",
       "    <tr>\n",
       "      <th>0</th>\n",
       "      <td>sq</td>\n",
       "    </tr>\n",
       "    <tr>\n",
       "      <th>1</th>\n",
       "      <td>duration</td>\n",
       "    </tr>\n",
       "    <tr>\n",
       "      <th>2</th>\n",
       "      <td>amplitude</td>\n",
       "    </tr>\n",
       "    <tr>\n",
       "      <th>3</th>\n",
       "      <td>start_time</td>\n",
       "    </tr>\n",
       "    <tr>\n",
       "      <th>4</th>\n",
       "      <td>sq</td>\n",
       "    </tr>\n",
       "  </tbody>\n",
       "</table>\n",
       "</div>"
      ],
      "text/plain": [
       "          key\n",
       "0          sq\n",
       "1    duration\n",
       "2   amplitude\n",
       "3  start_time\n",
       "4          sq"
      ]
     },
     "execution_count": 33,
     "metadata": {},
     "output_type": "execute_result"
    }
   ],
   "source": [
    "k=er.add_key(key_name='sq')\n",
    "er.keys.to_dataframe()"
   ]
  },
  {
   "cell_type": "code",
   "execution_count": 34,
   "metadata": {},
   "outputs": [
    {
     "name": "stdout",
     "output_type": "stream",
     "text": [
      "[<hdmf.common.resources.Key object at 0x15023fd90>, <hdmf.common.resources.Key object at 0x15023f510>]\n"
     ]
    }
   ],
   "source": [
    "key_object = er.get_key(key_name='sq')\n",
    "print(key_object)"
   ]
  },
  {
   "cell_type": "markdown",
   "metadata": {},
   "source": [
    "### Write"
   ]
  },
  {
   "cell_type": "code",
   "execution_count": null,
   "metadata": {},
   "outputs": [],
   "source": [
    "from datetime import datetime\n",
    "from dateutil.tz import tzlocal\n",
    "\n",
    "start_time = datetime(2017, 4, 3, 11, tzinfo=tzlocal())\n",
    "create_date = datetime(2017, 4, 15, 12, tzinfo=tzlocal())\n",
    "\n",
    "\n",
    "nwbfile = NWBFile('demonstrate caching', 'NWB456', start_time,\n",
    "                  file_create_date=create_date)\n",
    "\n",
    "nwbfile.add_acquisition(sft)"
   ]
  },
  {
   "cell_type": "code",
   "execution_count": null,
   "metadata": {},
   "outputs": [],
   "source": [
    "# Write the SFT out to file\n",
    "\n",
    "from pynwb import NWBHDF5IO\n",
    "\n",
    "io = NWBHDF5IO('sft_cache_spec_example2.nwb', mode='w')\n",
    "io.write(nwbfile)\n",
    "io.close()"
   ]
  },
  {
   "cell_type": "code",
   "execution_count": null,
   "metadata": {},
   "outputs": [],
   "source": [
    "# Reading in the file I just wrote\n",
    "\n",
    "io = NWBHDF5IO('sft_cache_spec_example.nwb', mode='r', load_namespaces=True)\n",
    "sft_nwbfile = io.read()"
   ]
  },
  {
   "cell_type": "code",
   "execution_count": null,
   "metadata": {},
   "outputs": [],
   "source": [
    "# print(sft_nwbfile.acquisition)\n",
    "\n",
    "sft_in = sft_nwbfile.get_acquisition()"
   ]
  },
  {
   "cell_type": "code",
   "execution_count": null,
   "metadata": {},
   "outputs": [],
   "source": [
    "sft_in.to_dataframe()"
   ]
  },
  {
   "cell_type": "code",
   "execution_count": null,
   "metadata": {},
   "outputs": [],
   "source": [
    "sft_in['float_parameters'].target[0][2]"
   ]
  },
  {
   "cell_type": "code",
   "execution_count": null,
   "metadata": {},
   "outputs": [],
   "source": [
    "from random import random, randint\n",
    "\n",
    "float_val = random()\n",
    "function_index = randint(0, 10)"
   ]
  },
  {
   "cell_type": "code",
   "execution_count": null,
   "metadata": {},
   "outputs": [],
   "source": [
    "print(float_val, function_index )"
   ]
  },
  {
   "cell_type": "code",
   "execution_count": null,
   "metadata": {},
   "outputs": [],
   "source": [
    "        float_value = random()\n",
    "        function_index = randint(0, 10)\n",
    "        float_param = ('name', float_value, 'units')\n",
    "        function_param = ('name', function_index, 'units')\n",
    "\n",
    "        row = {\n",
    "            'function_name':'function_name',\n",
    "            'float_parameters': float_param,\n",
    "            'function_parameters': function_param\n",
    "            }\n",
    "\n",
    "        stim_func_table = StimulusFunctionTable()\n",
    "        stim_func_table.add_row(data=row)"
   ]
  },
  {
   "cell_type": "code",
   "execution_count": null,
   "metadata": {},
   "outputs": [],
   "source": [
    "stim_func_table.to_dataframe()"
   ]
  },
  {
   "cell_type": "code",
   "execution_count": null,
   "metadata": {},
   "outputs": [],
   "source": [
    "stim_func_table['function_parameters'].target[1]"
   ]
  },
  {
   "cell_type": "code",
   "execution_count": null,
   "metadata": {},
   "outputs": [],
   "source": [
    "from random import random, randint\n",
    "\n",
    "float_value = random()\n",
    "function_index = randint(0, 10)\n",
    "float_param = [('name', float_value, 'units'), ('name', float_value, 'units')]\n",
    "function_param = [('name', function_index, 'units'), ('name', function_index, 'units')]\n",
    "\n",
    "row = {\n",
    "    'function_name':'function_name',\n",
    "    'float_parameters': float_param,\n",
    "    'function_parameters': function_param\n",
    "    }\n",
    "\n",
    "stim_func_table = StimulusFunctionTable()\n",
    "stim_func_table.add_row(data=row)\n"
   ]
  },
  {
   "cell_type": "code",
   "execution_count": null,
   "metadata": {},
   "outputs": [],
   "source": [
    "stim_func_table.add_row(data=row)\n"
   ]
  },
  {
   "cell_type": "code",
   "execution_count": null,
   "metadata": {},
   "outputs": [],
   "source": [
    "stim_func_table.to_dataframe()"
   ]
  },
  {
   "cell_type": "code",
   "execution_count": null,
   "metadata": {},
   "outputs": [],
   "source": [
    "from datetime import datetime\n",
    "from dateutil.tz import tzlocal\n",
    "\n",
    "start_time = datetime(2017, 4, 3, 11, tzinfo=tzlocal())\n",
    "create_date = datetime(2017, 4, 15, 12, tzinfo=tzlocal())\n",
    "\n",
    "\n",
    "nwbfile = NWBFile('demonstrate caching', 'NWB456', start_time,\n",
    "                  file_create_date=create_date)\n",
    "\n",
    "# path = '/Users/pam.baker/Documents/ndx_stim/ndx-stimulation/src/pynwb/tests/sft_cache_spec_example.nwb'\n",
    "\n",
    "nwbfile.add_acquisition(stim_func_table)\n",
    "\n",
    "io = NWBHDF5IO('sft_testy2_example.nwb', mode='w')\n",
    "io.write(nwbfile)\n",
    "io.close()\n",
    "\n",
    "# with NWBHDF5IO(path, mode='w') as io:\n",
    "#    io.write(nwbfile)"
   ]
  },
  {
   "cell_type": "code",
   "execution_count": null,
   "metadata": {},
   "outputs": [],
   "source": []
  }
 ],
 "metadata": {
  "kernelspec": {
   "display_name": "myicephysenv2",
   "language": "python",
   "name": "myicephysenv2"
  },
  "language_info": {
   "codemirror_mode": {
    "name": "ipython",
    "version": 3
   },
   "file_extension": ".py",
   "mimetype": "text/x-python",
   "name": "python",
   "nbconvert_exporter": "python",
   "pygments_lexer": "ipython3",
   "version": "3.7.10"
  }
 },
 "nbformat": 4,
 "nbformat_minor": 2
}
