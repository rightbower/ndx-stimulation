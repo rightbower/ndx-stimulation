{
 "cells": [
  {
   "cell_type": "markdown",
   "metadata": {},
   "source": [
    "## External Resources in NWB with Patch-seq data\n",
    "\n",
    "To prototype the inclusion of ontologized metadata in NWB, we have built this tutorial showing how to create files  including the new extensions and features:\n",
    "\n",
    "- ndx-stimulation for stimulus waveform metadata\n",
    "- ndx-genotype for strain, gene, and allele metadata\n",
    "- ExternalResources for storing links to external databases and ontologies\n"
   ]
  },
  {
   "cell_type": "code",
   "execution_count": 1,
   "metadata": {},
   "outputs": [],
   "source": [
    "from datetime import datetime\n",
    "from dateutil.tz import tzlocal\n",
    "import inspect\n",
    "import numpy as np\n",
    "import pandas as pd\n",
    "import os\n",
    "\n",
    "from pynwb import NWBHDF5IO, NWBFile\n",
    "from pynwb.core import DynamicTableRegion, DynamicTable\n",
    "from pynwb.device import Device\n",
    "\n",
    "from pynwb import register_class, load_namespaces\n",
    "from hdmf.utils import docval, call_docval_func, getargs, get_docval\n",
    "\n",
    "\n",
    "# namespace for the SFT extension\n",
    "ndx_stimulation_specpath = '/Users/pam.baker/Documents/ndx_stim/ndx-stimulation/spec/ndx-stimulation.namespace.yaml'\n",
    "\n",
    "# namespace for the genotype extension\n",
    "ndx_genotype_specpath = '/Users/pam.baker/Documents/ndx_stim/ndx-genotype/spec/ndx-genotype.namespace.yaml'\n",
    "\n",
    "# Load the namespace                                                                                                 \n",
    "load_namespaces(ndx_stimulation_specpath)\n",
    "load_namespaces(ndx_genotype_specpath);"
   ]
  },
  {
   "cell_type": "code",
   "execution_count": 2,
   "metadata": {},
   "outputs": [
    {
     "data": {
      "text/html": [
       "<style type=\"text/css\">\n",
       "table.dataframe td, table.dataframe th {\n",
       "    border: 1px  black solid !important;\n",
       "  color: black !important;\n",
       "}\n",
       "</style>\n"
      ],
      "text/plain": [
       "<IPython.core.display.HTML object>"
      ]
     },
     "metadata": {},
     "output_type": "display_data"
    }
   ],
   "source": [
    "%%HTML\n",
    "<style type=\"text/css\">\n",
    "table.dataframe td, table.dataframe th {\n",
    "    border: 1px  black solid !important;\n",
    "  color: black !important;\n",
    "}\n",
    "</style>"
   ]
  },
  {
   "cell_type": "markdown",
   "metadata": {},
   "source": [
    "## Genotypes and Alleles Tables\n",
    "\n",
    "For this iteration, the NWBFile we are building is a GenotypeNWBFile, as this supports the Genotype Table, External Resources, and ICEPhys Tables. The Stimulus Function Tables are added as a separate extension for now. Can I add both extensions concurrently and define e.g. the SFTNWBFile as a subtype of GenotypeNWBFile?\n",
    "\n",
    "- Genotypes for locus and allele information\n",
    "- Alleles to store allele metadata"
   ]
  },
  {
   "cell_type": "code",
   "execution_count": 3,
   "metadata": {},
   "outputs": [
    {
     "name": "stderr",
     "output_type": "stream",
     "text": [
      "/opt/anaconda3/envs/pynwb_recurse/lib/python3.9/site-packages/hdmf/container.py:181: UserWarning: ExternalResources is experimental -- it may be removed in the future and is not guaranteed to maintain backward compatibility\n",
      "  warn(_exp_warn_msg(cls))\n"
     ]
    }
   ],
   "source": [
    "from datetime import timezone\n",
    "from ndx_genotype import GenotypeNWBFile, GenotypeSubject, GenotypesTable, AllelesTable\n",
    "\n",
    "nwbfile = GenotypeNWBFile(\n",
    "            session_start_time=datetime.now(timezone.utc),\n",
    "            session_description='my first synthetic recording',\n",
    "            identifier='EXAMPLE_ID',\n",
    "            experimenter='Dr. Bilbo Baggins',\n",
    "            lab='Bag End Laboratory',\n",
    "            institution='University of Middle Earth at the Shire',\n",
    "            experiment_description='I went on an adventure with thirteen dwarves to reclaim vast treasures.',\n",
    "            session_id='LONELYMTN'\n",
    "            )\n",
    "\n",
    "# Note Subject.species should be ontologized as well\n",
    "nwbfile.subject = GenotypeSubject(\n",
    "            subject_id='3',\n",
    "            genotype='Vip-IRES-Cre/wt',\n",
    "            )\n",
    "\n",
    "# Show adding the other attributes from the GenotypesTable in the External Resources\n",
    "gt = GenotypesTable(\n",
    "            process='PCR',\n",
    "            process_url='https://dx.doi.org/10.17504/protocols.io.yjifuke',\n",
    "            assembly='GRCm38.p6',\n",
    "            annotation='NCBI Mus musculus Annotation Release 108',\n",
    "            )\n",
    "\n",
    "nwbfile.subject.genotypes_table = gt \n",
    "\n",
    "# Adding alleles\n",
    "gt.add_allele(symbol='Vip-IRES-Cre')\n",
    "gt.add_allele(symbol='wt')\n",
    "\n",
    "gt.add_genotype(locus='Vip',\n",
    "                allele1='Vip-IRES-Cre',\n",
    "                allele2='wt',\n",
    "                locus_resource_name='locus_resource_name',\n",
    "                locus_resource_uri='locus_resource_uri',\n",
    "                locus_entity_id='locus_entity_id',\n",
    "                locus_entity_uri='locus_entity_uri')"
   ]
  },
  {
   "cell_type": "code",
   "execution_count": null,
   "metadata": {},
   "outputs": [],
   "source": [
    "# Display tables\n",
    "#\n",
    "gt.to_dataframe()\n",
    "#gt.alleles_table.to_dataframe()"
   ]
  },
  {
   "cell_type": "markdown",
   "metadata": {},
   "source": [
    "## External Resources Table\n",
    "\n",
    "Since the GenotypesTable automatically generates an External Resources Table, we fetch the table already built into the GenotypesNWBFile for adding the SFT keys.\n",
    "\n",
    "- Resources: eg ontology we are referencing\n",
    "- Entities: as defined by an entry in ontology/controlled terms\n",
    "- Keys: reference from object into the ER tables that maps onto entities \n",
    "- Objects: thing we are ontologizing (eg SFT)"
   ]
  },
  {
   "cell_type": "code",
   "execution_count": null,
   "metadata": {},
   "outputs": [],
   "source": [
    "er = nwbfile.external_resources"
   ]
  },
  {
   "cell_type": "markdown",
   "metadata": {},
   "source": [
    "## Stimulus Function Table\n",
    "\n",
    "The stimulus function table is designed to hold the names of stimulus waveforms and their relevant parameters - float parameters for numeric values and function parameters that reference other waveform functions (for parameter values that vary as a function of time).\n",
    "\n",
    "I have added the class constructor code here, and am adding entries using DynamicTable functionality."
   ]
  },
  {
   "cell_type": "code",
   "execution_count": null,
   "metadata": {},
   "outputs": [],
   "source": [
    "@register_class('StimulusFunctionTable', 'ndx-stimulation')\n",
    "class StimulusFunctionTable(DynamicTable):   \n",
    "    \n",
    "    __columns__ = ( \n",
    "                    {'name':'function_name', \n",
    "                     'description': 'The names of the 1D stimulus waveforms.',\n",
    "                     'required': True,\n",
    "                     'index': False},\n",
    "                    {'name':'float_parameters', \n",
    "                     'description': 'The names of the float parameters for the 1D stimulus waveforms.',\n",
    "                     'required': True,\n",
    "                     'index': True},\n",
    "                    {'name':'function_parameters',\n",
    "                     'description': 'The function parameters for the 1D stimulus waveforms.',\n",
    "                     'required': True,\n",
    "                     'index': True}\n",
    "    )\n",
    "    \n",
    "    \n",
    "    @docval(*get_docval(DynamicTable.__init__, 'id', 'columns', 'colnames'))\n",
    "    def __init__(self, **kwargs):\n",
    "        kwargs['name'] = ('StimulusFunctionTable')\n",
    "        kwargs['description'] = ('Table for storing ontologized 1D stimulus waveform metadata')\n",
    "        call_docval_func(super().__init__, kwargs)\n",
    "        "
   ]
  },
  {
   "cell_type": "markdown",
   "metadata": {},
   "source": [
    "We create an example stimulus function table to hold a couple of square waves with associated parameters. We use the add_row function inherited from Dynamic Tables to add new entries. "
   ]
  },
  {
   "cell_type": "code",
   "execution_count": null,
   "metadata": {},
   "outputs": [],
   "source": [
    "#\n",
    "# Loop through and create entries for the IV stimulus protocol\n",
    "#\n",
    "# Create SFT\n",
    "sft = StimulusFunctionTable()\n",
    "\n",
    "# amplitudes of pulses that form sweep sequence - from file comments\n",
    "amps = [i for i in range(60,-150,-20)]\n",
    "\n",
    "\n",
    "# Loop through and add entries to SFT for each stimulus\n",
    "# We can name the function what we want, but this will be the Key name to enter in ER\n",
    "# Each Key name can only be used once in each field (eg IV will always be square pulses)\n",
    "#\n",
    "for j in amps:\n",
    "    \n",
    "    # Parameters for square wave\n",
    "    float_params = [('amplitude', j*1e-12, 'A'),\n",
    "                    ('duration', 3.0, 's'),\n",
    "                    ('starting_time', 0.25, 's')]\n",
    "    \n",
    "    # Create the stimulus waveform\n",
    "    stimwave = {'function_name':'IV', \n",
    "                'float_parameters': float_params, \n",
    "                'function_parameters':[]}\n",
    "    \n",
    "    # Add using add_row from DynamicTable (for now)\n",
    "    sft.add_row(data = stimwave, id=666)\n",
    "    \n",
    "    \n",
    "pd.set_option(\"display.max_colwidth\", 100)\n",
    "display(sft.to_dataframe())"
   ]
  },
  {
   "cell_type": "markdown",
   "metadata": {},
   "source": [
    "The *StimulusFunctionTable* is the container object we will link to in the External Resources. We are linking the subfields of the SFT to the External Resources, so we use the `field` attribute to indicate which column or element of a compound data entry gets linked. Since this is not currently validated, we must be consistent when defining the field and using it to retrieve a key."
   ]
  },
  {
   "cell_type": "code",
   "execution_count": null,
   "metadata": {},
   "outputs": [],
   "source": [
    "sft_object_id = sft.object_id\n",
    "print(sft_object_id)"
   ]
  },
  {
   "cell_type": "code",
   "execution_count": null,
   "metadata": {},
   "outputs": [],
   "source": [
    "# add_ref creates an entry across all tables (entities, keys, objects, resources)\n",
    "\n",
    "er.add_ref(container = sft_object_id, \n",
    "           field='function_name', \n",
    "           key='IV',\n",
    "           resource_name='Estim Ontology',\n",
    "           resource_uri='Estim_Ontology_uri',\n",
    "           entity_id='square_pulse',\n",
    "           entity_uri='Estim_square_pulse_uri'\n",
    "          )\n",
    "\n",
    "er.add_ref(container = sft_object_id, \n",
    "           field='float_parameter/name', \n",
    "           key='duration',\n",
    "           resource_name='Estim Ontology',\n",
    "           resource_uri='Estim_Ontology_uri',\n",
    "           entity_id='duration',\n",
    "           entity_uri='Estim_duration_uri'\n",
    "          )\n",
    "\n",
    "er.add_ref(container = sft_object_id, \n",
    "           field='float_parameter/name', \n",
    "           key='amplitude',\n",
    "           resource_name='Estim Ontology',\n",
    "           resource_uri='Estim_Ontology_uri',\n",
    "           entity_id='amplitude',\n",
    "           entity_uri='Estim_amplitude_uri'\n",
    "          )\n",
    "\n",
    "er.add_ref(container = sft_object_id, \n",
    "           field='float_parameter/name', \n",
    "           key='starting_time',\n",
    "           resource_name='Estim Ontology',\n",
    "           resource_uri='Estim_Ontology_uri',\n",
    "           entity_id='shift',\n",
    "           entity_uri='Estim_shift_uri'\n",
    "          )"
   ]
  },
  {
   "cell_type": "code",
   "execution_count": null,
   "metadata": {},
   "outputs": [],
   "source": [
    "nwbfile.external_resources.to_dataframe()"
   ]
  },
  {
   "cell_type": "code",
   "execution_count": null,
   "metadata": {},
   "outputs": [],
   "source": [
    "er.keys.to_dataframe()"
   ]
  },
  {
   "cell_type": "code",
   "execution_count": null,
   "metadata": {},
   "outputs": [],
   "source": [
    "er.entities.to_dataframe()"
   ]
  },
  {
   "cell_type": "code",
   "execution_count": null,
   "metadata": {},
   "outputs": [],
   "source": [
    "key_object = er.get_key(key_name='amplitude', container=sft_object_id, field='float_parameter/name')\n",
    "print(key_object)"
   ]
  },
  {
   "cell_type": "markdown",
   "metadata": {},
   "source": [
    "## ICEPhys Tables"
   ]
  },
  {
   "cell_type": "code",
   "execution_count": 4,
   "metadata": {},
   "outputs": [],
   "source": [
    "from pynwb.icephys import CurrentClampStimulusSeries, CurrentClampSeries\n",
    "from pynwb import NWBHDF5IO\n",
    "from pynwb.core import DynamicTable, VectorData"
   ]
  },
  {
   "cell_type": "code",
   "execution_count": 5,
   "metadata": {},
   "outputs": [
    {
     "data": {
      "image/png": "[encoded data removed]",
      "text/plain": [
       "<Figure size 720x288 with 1 Axes>"
      ]
     },
     "metadata": {
      "needs_background": "light"
     },
     "output_type": "display_data"
    },
    {
     "data": {
      "image/png": "[encoded data removed]",
      "text/plain": [
       "<Figure size 720x288 with 1 Axes>"
      ]
     },
     "metadata": {
      "needs_background": "light"
     },
     "output_type": "display_data"
    }
   ],
   "source": [
    "from matplotlib import pyplot as plt\n",
    "%matplotlib inline\n",
    "\n",
    "# Sweeps from AIBS file \n",
    "#\n",
    "traces = np.load('001_140709EXP_A1_ndx_v3.npz')\n",
    "\n",
    "# These were taken for the first repetition of the IV stimulus protocol\n",
    "#\n",
    "stims = traces['stims']\n",
    "resps = traces['resps']\n",
    "starts = traces['starts']\n",
    "sweep_nums = traces['sweep_nums']\n",
    "rates = traces['rates']\n",
    "stim_names = traces['stim_names']\n",
    "\n",
    "ds = stims\n",
    "fig, ax = plt.subplots(1,1, figsize=(10,4));\n",
    "ax.plot(ds);\n",
    "\n",
    "ds = resps\n",
    "fig, ax = plt.subplots(1,1, figsize=(10,4));\n",
    "ax.plot(ds);"
   ]
  },
  {
   "cell_type": "code",
   "execution_count": 6,
   "metadata": {},
   "outputs": [],
   "source": [
    "# Add device\n",
    "device = nwbfile.create_device(name='Multiclamp 700B Axon Instruments')\n",
    "\n",
    "# Add the intracellular electrode\n",
    "electrode = nwbfile.create_icephys_electrode(name=\"Electrode_01\",\n",
    "                                        description=\"Electrode_Type:Chlorinated Ag+ wire,0.5 mm diameter#Electrode_Manufacturer:A-M Systems, Inc.\",\n",
    "                                        location=\"Anatomical_Location:Brain#Brain_Hemisphere:Right#Brain_Area:SSC\",\n",
    "                                        device=device)\n"
   ]
  },
  {
   "cell_type": "code",
   "execution_count": 7,
   "metadata": {},
   "outputs": [],
   "source": [
    "# For storing row indices\n",
    "rowindex = []\n",
    "\n",
    "# Loop through and create timeseries and add to file\n",
    "for i in range(11):\n",
    "    #\n",
    "    # Create an ic-ephys stimulus\n",
    "    stimulus = CurrentClampStimulusSeries(\n",
    "                name=\"ccss_\"+str(sweep_nums[i]),\n",
    "                data=stims[:,i],\n",
    "                starting_time=starts[i],\n",
    "                rate=rates[i],\n",
    "                electrode=electrode,\n",
    "                gain=1e-12,\n",
    "                sweep_number=sweep_nums[i])\n",
    "    #\n",
    "    # Create an ic-response\n",
    "    response = CurrentClampSeries(\n",
    "                name=\"ccs_\"+str(sweep_nums[i]),\n",
    "                data=resps[:,i],\n",
    "                starting_time=starts[i],\n",
    "                rate=rates[i],\n",
    "                electrode=electrode,\n",
    "                gain=1e-12,\n",
    "                sweep_number=sweep_nums[i])\n",
    "    #\n",
    "    # add to file\n",
    "    rowindex = rowindex + [nwbfile.add_intracellular_recording(electrode=electrode,\n",
    "                                                              stimulus=stimulus,\n",
    "                                                              response=response,\n",
    "                                                              id=sweep_nums[i])]\n",
    "    "
   ]
  },
  {
   "cell_type": "code",
   "execution_count": 8,
   "metadata": {},
   "outputs": [],
   "source": [
    "#\n",
    "# Add column for stimulus label\n",
    "# We can add this under the 'stimuli' category, \n",
    "# or to each row entry as a whole since the stim is relevant for responses as well\n",
    "#\n",
    "nwbfile.intracellular_recordings.add_column(\n",
    "    name='stimulus_type', \n",
    "    data=['IV']*len(starts), \n",
    "    description='function_name in Stimulus Function Table',\n",
    "    category='stimuli')\n",
    "\n",
    "#nwbfile.intracellular_recordings.to_dataframe()"
   ]
  },
  {
   "cell_type": "markdown",
   "metadata": {},
   "source": [
    "### Defining a protocol with Sequential Recordings\n",
    "\n",
    "The hierachical tables are set up to define a logical grouping of recordings and sweeps, starting with temporal relationships between sweeps, up to organization by identical stimulus set/protocol, up to experimental conditions that altered for large chunks of a session. \n",
    "\n",
    "1. Group sweeps that were recorded simultaneously into the **simultaneous_recordings**\n",
    "2. Add a series of simultaneous sweeps that form a protocol to **sequential_recordings**"
   ]
  },
  {
   "cell_type": "code",
   "execution_count": null,
   "metadata": {},
   "outputs": [],
   "source": [
    "print(len(starts))"
   ]
  },
  {
   "cell_type": "code",
   "execution_count": 9,
   "metadata": {},
   "outputs": [
    {
     "data": {
      "text/html": [
       "<div>\n",
       "<style scoped>\n",
       "    .dataframe tbody tr th:only-of-type {\n",
       "        vertical-align: middle;\n",
       "    }\n",
       "\n",
       "    .dataframe tbody tr th {\n",
       "        vertical-align: top;\n",
       "    }\n",
       "\n",
       "    .dataframe thead th {\n",
       "        text-align: right;\n",
       "    }\n",
       "</style>\n",
       "<table border=\"1\" class=\"dataframe\">\n",
       "  <thead>\n",
       "    <tr style=\"text-align: right;\">\n",
       "      <th></th>\n",
       "      <th>recordings</th>\n",
       "    </tr>\n",
       "    <tr>\n",
       "      <th>id</th>\n",
       "      <th></th>\n",
       "    </tr>\n",
       "  </thead>\n",
       "  <tbody>\n",
       "    <tr>\n",
       "      <th>101</th>\n",
       "      <td>Empty DataFrame\n",
       "Columns: []\n",
       "Index: [32]</td>\n",
       "    </tr>\n",
       "    <tr>\n",
       "      <th>102</th>\n",
       "      <td>Empty DataFrame\n",
       "Columns: []\n",
       "Index: [33]</td>\n",
       "    </tr>\n",
       "    <tr>\n",
       "      <th>103</th>\n",
       "      <td>Empty DataFrame\n",
       "Columns: []\n",
       "Index: [34]</td>\n",
       "    </tr>\n",
       "    <tr>\n",
       "      <th>104</th>\n",
       "      <td>Empty DataFrame\n",
       "Columns: []\n",
       "Index: [35]</td>\n",
       "    </tr>\n",
       "    <tr>\n",
       "      <th>105</th>\n",
       "      <td>Empty DataFrame\n",
       "Columns: []\n",
       "Index: [36]</td>\n",
       "    </tr>\n",
       "    <tr>\n",
       "      <th>106</th>\n",
       "      <td>Empty DataFrame\n",
       "Columns: []\n",
       "Index: [37]</td>\n",
       "    </tr>\n",
       "    <tr>\n",
       "      <th>107</th>\n",
       "      <td>Empty DataFrame\n",
       "Columns: []\n",
       "Index: [38]</td>\n",
       "    </tr>\n",
       "    <tr>\n",
       "      <th>108</th>\n",
       "      <td>Empty DataFrame\n",
       "Columns: []\n",
       "Index: [39]</td>\n",
       "    </tr>\n",
       "    <tr>\n",
       "      <th>109</th>\n",
       "      <td>Empty DataFrame\n",
       "Columns: []\n",
       "Index: [40]</td>\n",
       "    </tr>\n",
       "    <tr>\n",
       "      <th>110</th>\n",
       "      <td>Empty DataFrame\n",
       "Columns: []\n",
       "Index: [41]</td>\n",
       "    </tr>\n",
       "    <tr>\n",
       "      <th>111</th>\n",
       "      <td>Empty DataFrame\n",
       "Columns: []\n",
       "Index: [42]</td>\n",
       "    </tr>\n",
       "  </tbody>\n",
       "</table>\n",
       "</div>"
      ],
      "text/plain": [
       "                                  recordings\n",
       "id                                          \n",
       "101  Empty DataFrame\n",
       "Columns: []\n",
       "Index: [32]\n",
       "102  Empty DataFrame\n",
       "Columns: []\n",
       "Index: [33]\n",
       "103  Empty DataFrame\n",
       "Columns: []\n",
       "Index: [34]\n",
       "104  Empty DataFrame\n",
       "Columns: []\n",
       "Index: [35]\n",
       "105  Empty DataFrame\n",
       "Columns: []\n",
       "Index: [36]\n",
       "106  Empty DataFrame\n",
       "Columns: []\n",
       "Index: [37]\n",
       "107  Empty DataFrame\n",
       "Columns: []\n",
       "Index: [38]\n",
       "108  Empty DataFrame\n",
       "Columns: []\n",
       "Index: [39]\n",
       "109  Empty DataFrame\n",
       "Columns: []\n",
       "Index: [40]\n",
       "110  Empty DataFrame\n",
       "Columns: []\n",
       "Index: [41]\n",
       "111  Empty DataFrame\n",
       "Columns: []\n",
       "Index: [42]"
      ]
     },
     "execution_count": 9,
     "metadata": {},
     "output_type": "execute_result"
    }
   ],
   "source": [
    "#icephys_simultaneous_recordings = nwbfile.get_icephys_simultaneous_recordings()\n",
    "\n",
    "simrowindex = []\n",
    "\n",
    "for i in range(len(starts)):\n",
    "    simrowindex.extend([ nwbfile.add_icephys_simultaneous_recording(recordings=[rowindex[i]], id=(101+i)) ])\n",
    "\n",
    "nwbfile.icephys_simultaneous_recordings.to_dataframe()"
   ]
  },
  {
   "cell_type": "code",
   "execution_count": 11,
   "metadata": {},
   "outputs": [
    {
     "data": {
      "text/html": [
       "<div>\n",
       "<style scoped>\n",
       "    .dataframe tbody tr th:only-of-type {\n",
       "        vertical-align: middle;\n",
       "    }\n",
       "\n",
       "    .dataframe tbody tr th {\n",
       "        vertical-align: top;\n",
       "    }\n",
       "\n",
       "    .dataframe thead th {\n",
       "        text-align: right;\n",
       "    }\n",
       "</style>\n",
       "<table border=\"1\" class=\"dataframe\">\n",
       "  <thead>\n",
       "    <tr style=\"text-align: right;\">\n",
       "      <th></th>\n",
       "    </tr>\n",
       "    <tr>\n",
       "      <th>id</th>\n",
       "    </tr>\n",
       "  </thead>\n",
       "  <tbody>\n",
       "    <tr>\n",
       "      <th>32</th>\n",
       "    </tr>\n",
       "    <tr>\n",
       "      <th>33</th>\n",
       "    </tr>\n",
       "    <tr>\n",
       "      <th>34</th>\n",
       "    </tr>\n",
       "    <tr>\n",
       "      <th>35</th>\n",
       "    </tr>\n",
       "    <tr>\n",
       "      <th>36</th>\n",
       "    </tr>\n",
       "    <tr>\n",
       "      <th>37</th>\n",
       "    </tr>\n",
       "    <tr>\n",
       "      <th>38</th>\n",
       "    </tr>\n",
       "    <tr>\n",
       "      <th>39</th>\n",
       "    </tr>\n",
       "    <tr>\n",
       "      <th>40</th>\n",
       "    </tr>\n",
       "    <tr>\n",
       "      <th>41</th>\n",
       "    </tr>\n",
       "    <tr>\n",
       "      <th>42</th>\n",
       "    </tr>\n",
       "  </tbody>\n",
       "</table>\n",
       "</div>"
      ],
      "text/plain": [
       "Empty DataFrame\n",
       "Columns: []\n",
       "Index: [32, 33, 34, 35, 36, 37, 38, 39, 40, 41, 42]"
      ]
     },
     "execution_count": 11,
     "metadata": {},
     "output_type": "execute_result"
    }
   ],
   "source": [
    "#print(nwbfile.icephys_simultaneous_recordings)\n",
    "## nwbfile.icephys_simultaneous_recordings['recordings'].target[:] -> empty dataframe MAKE COLUMN??"
   ]
  },
  {
   "cell_type": "code",
   "execution_count": 12,
   "metadata": {},
   "outputs": [
    {
     "name": "stdout",
     "output_type": "stream",
     "text": [
      "[0, 1, 2, 3, 4, 5, 6, 7, 8, 9, 10]\n"
     ]
    }
   ],
   "source": [
    "print(simrowindex)"
   ]
  },
  {
   "cell_type": "code",
   "execution_count": 28,
   "metadata": {},
   "outputs": [
    {
     "ename": "ValueError",
     "evalue": "id 201 already in the table",
     "output_type": "error",
     "traceback": [
      "\u001b[0;31m---------------------------------------------------------------------------\u001b[0m",
      "\u001b[0;31mValueError\u001b[0m                                Traceback (most recent call last)",
      "\u001b[0;32m<ipython-input-28-ea494b175416>\u001b[0m in \u001b[0;36m<module>\u001b[0;34m\u001b[0m\n\u001b[1;32m      1\u001b[0m \u001b[0;31m# Adding a set of sequential recordings\u001b[0m\u001b[0;34m\u001b[0m\u001b[0;34m\u001b[0m\u001b[0;34m\u001b[0m\u001b[0m\n\u001b[1;32m      2\u001b[0m \u001b[0;34m\u001b[0m\u001b[0m\n\u001b[0;32m----> 3\u001b[0;31m seqrowindex = nwbfile.add_icephys_sequential_recording(simultaneous_recordings=simrowindex, \n\u001b[0m\u001b[1;32m      4\u001b[0m                                                        \u001b[0mstimulus_type\u001b[0m\u001b[0;34m=\u001b[0m\u001b[0;34m'IV'\u001b[0m\u001b[0;34m,\u001b[0m\u001b[0;34m\u001b[0m\u001b[0;34m\u001b[0m\u001b[0m\n\u001b[1;32m      5\u001b[0m                                                        id=201)\n",
      "\u001b[0;32m/opt/anaconda3/envs/pynwb_recurse/lib/python3.9/site-packages/hdmf/utils.py\u001b[0m in \u001b[0;36mfunc_call\u001b[0;34m(*args, **kwargs)\u001b[0m\n\u001b[1;32m    578\u001b[0m             \u001b[0;32mdef\u001b[0m \u001b[0mfunc_call\u001b[0m\u001b[0;34m(\u001b[0m\u001b[0;34m*\u001b[0m\u001b[0margs\u001b[0m\u001b[0;34m,\u001b[0m \u001b[0;34m**\u001b[0m\u001b[0mkwargs\u001b[0m\u001b[0;34m)\u001b[0m\u001b[0;34m:\u001b[0m\u001b[0;34m\u001b[0m\u001b[0;34m\u001b[0m\u001b[0m\n\u001b[1;32m    579\u001b[0m                 \u001b[0mpargs\u001b[0m \u001b[0;34m=\u001b[0m \u001b[0m_check_args\u001b[0m\u001b[0;34m(\u001b[0m\u001b[0margs\u001b[0m\u001b[0;34m,\u001b[0m \u001b[0mkwargs\u001b[0m\u001b[0;34m)\u001b[0m\u001b[0;34m\u001b[0m\u001b[0;34m\u001b[0m\u001b[0m\n\u001b[0;32m--> 580\u001b[0;31m                 \u001b[0;32mreturn\u001b[0m \u001b[0mfunc\u001b[0m\u001b[0;34m(\u001b[0m\u001b[0margs\u001b[0m\u001b[0;34m[\u001b[0m\u001b[0;36m0\u001b[0m\u001b[0;34m]\u001b[0m\u001b[0;34m,\u001b[0m \u001b[0;34m**\u001b[0m\u001b[0mpargs\u001b[0m\u001b[0;34m)\u001b[0m\u001b[0;34m\u001b[0m\u001b[0;34m\u001b[0m\u001b[0m\n\u001b[0m\u001b[1;32m    581\u001b[0m         \u001b[0;32melse\u001b[0m\u001b[0;34m:\u001b[0m\u001b[0;34m\u001b[0m\u001b[0;34m\u001b[0m\u001b[0m\n\u001b[1;32m    582\u001b[0m             \u001b[0;32mdef\u001b[0m \u001b[0mfunc_call\u001b[0m\u001b[0;34m(\u001b[0m\u001b[0;34m*\u001b[0m\u001b[0margs\u001b[0m\u001b[0;34m,\u001b[0m \u001b[0;34m**\u001b[0m\u001b[0mkwargs\u001b[0m\u001b[0;34m)\u001b[0m\u001b[0;34m:\u001b[0m\u001b[0;34m\u001b[0m\u001b[0;34m\u001b[0m\u001b[0m\n",
      "\u001b[0;32m~/Documents/ndx_stim/pynwb/src/pynwb/file.py\u001b[0m in \u001b[0;36madd_icephys_sequential_recording\u001b[0;34m(self, **kwargs)\u001b[0m\n\u001b[1;32m    867\u001b[0m         \"\"\"\n\u001b[1;32m    868\u001b[0m         \u001b[0mself\u001b[0m\u001b[0;34m.\u001b[0m\u001b[0mget_icephys_sequential_recordings\u001b[0m\u001b[0;34m(\u001b[0m\u001b[0;34m)\u001b[0m\u001b[0;34m\u001b[0m\u001b[0;34m\u001b[0m\u001b[0m\n\u001b[0;32m--> 869\u001b[0;31m         \u001b[0;32mreturn\u001b[0m \u001b[0mcall_docval_func\u001b[0m\u001b[0;34m(\u001b[0m\u001b[0mself\u001b[0m\u001b[0;34m.\u001b[0m\u001b[0micephys_sequential_recordings\u001b[0m\u001b[0;34m.\u001b[0m\u001b[0madd_sequential_recording\u001b[0m\u001b[0;34m,\u001b[0m \u001b[0mkwargs\u001b[0m\u001b[0;34m)\u001b[0m\u001b[0;34m\u001b[0m\u001b[0;34m\u001b[0m\u001b[0m\n\u001b[0m\u001b[1;32m    870\u001b[0m \u001b[0;34m\u001b[0m\u001b[0m\n\u001b[1;32m    871\u001b[0m     \u001b[0;34m@\u001b[0m\u001b[0mdocval\u001b[0m\u001b[0;34m(\u001b[0m\u001b[0mreturns\u001b[0m\u001b[0;34m=\u001b[0m\u001b[0;34m'The NWBFile.icephys_repetitions table'\u001b[0m\u001b[0;34m,\u001b[0m \u001b[0mrtype\u001b[0m\u001b[0;34m=\u001b[0m\u001b[0mRepetitionsTable\u001b[0m\u001b[0;34m)\u001b[0m\u001b[0;34m\u001b[0m\u001b[0;34m\u001b[0m\u001b[0m\n",
      "\u001b[0;32m/opt/anaconda3/envs/pynwb_recurse/lib/python3.9/site-packages/hdmf/utils.py\u001b[0m in \u001b[0;36mcall_docval_func\u001b[0;34m(func, kwargs)\u001b[0m\n\u001b[1;32m    421\u001b[0m \u001b[0;32mdef\u001b[0m \u001b[0mcall_docval_func\u001b[0m\u001b[0;34m(\u001b[0m\u001b[0mfunc\u001b[0m\u001b[0;34m,\u001b[0m \u001b[0mkwargs\u001b[0m\u001b[0;34m)\u001b[0m\u001b[0;34m:\u001b[0m\u001b[0;34m\u001b[0m\u001b[0;34m\u001b[0m\u001b[0m\n\u001b[1;32m    422\u001b[0m     \u001b[0mfargs\u001b[0m\u001b[0;34m,\u001b[0m \u001b[0mfkwargs\u001b[0m \u001b[0;34m=\u001b[0m \u001b[0mfmt_docval_args\u001b[0m\u001b[0;34m(\u001b[0m\u001b[0mfunc\u001b[0m\u001b[0;34m,\u001b[0m \u001b[0mkwargs\u001b[0m\u001b[0;34m)\u001b[0m\u001b[0;34m\u001b[0m\u001b[0;34m\u001b[0m\u001b[0m\n\u001b[0;32m--> 423\u001b[0;31m     \u001b[0;32mreturn\u001b[0m \u001b[0mfunc\u001b[0m\u001b[0;34m(\u001b[0m\u001b[0;34m*\u001b[0m\u001b[0mfargs\u001b[0m\u001b[0;34m,\u001b[0m \u001b[0;34m**\u001b[0m\u001b[0mfkwargs\u001b[0m\u001b[0;34m)\u001b[0m\u001b[0;34m\u001b[0m\u001b[0;34m\u001b[0m\u001b[0m\n\u001b[0m\u001b[1;32m    424\u001b[0m \u001b[0;34m\u001b[0m\u001b[0m\n\u001b[1;32m    425\u001b[0m \u001b[0;34m\u001b[0m\u001b[0m\n",
      "\u001b[0;32m/opt/anaconda3/envs/pynwb_recurse/lib/python3.9/site-packages/hdmf/utils.py\u001b[0m in \u001b[0;36mfunc_call\u001b[0;34m(*args, **kwargs)\u001b[0m\n\u001b[1;32m    578\u001b[0m             \u001b[0;32mdef\u001b[0m \u001b[0mfunc_call\u001b[0m\u001b[0;34m(\u001b[0m\u001b[0;34m*\u001b[0m\u001b[0margs\u001b[0m\u001b[0;34m,\u001b[0m \u001b[0;34m**\u001b[0m\u001b[0mkwargs\u001b[0m\u001b[0;34m)\u001b[0m\u001b[0;34m:\u001b[0m\u001b[0;34m\u001b[0m\u001b[0;34m\u001b[0m\u001b[0m\n\u001b[1;32m    579\u001b[0m                 \u001b[0mpargs\u001b[0m \u001b[0;34m=\u001b[0m \u001b[0m_check_args\u001b[0m\u001b[0;34m(\u001b[0m\u001b[0margs\u001b[0m\u001b[0;34m,\u001b[0m \u001b[0mkwargs\u001b[0m\u001b[0;34m)\u001b[0m\u001b[0;34m\u001b[0m\u001b[0;34m\u001b[0m\u001b[0m\n\u001b[0;32m--> 580\u001b[0;31m                 \u001b[0;32mreturn\u001b[0m \u001b[0mfunc\u001b[0m\u001b[0;34m(\u001b[0m\u001b[0margs\u001b[0m\u001b[0;34m[\u001b[0m\u001b[0;36m0\u001b[0m\u001b[0;34m]\u001b[0m\u001b[0;34m,\u001b[0m \u001b[0;34m**\u001b[0m\u001b[0mpargs\u001b[0m\u001b[0;34m)\u001b[0m\u001b[0;34m\u001b[0m\u001b[0;34m\u001b[0m\u001b[0m\n\u001b[0m\u001b[1;32m    581\u001b[0m         \u001b[0;32melse\u001b[0m\u001b[0;34m:\u001b[0m\u001b[0;34m\u001b[0m\u001b[0;34m\u001b[0m\u001b[0m\n\u001b[1;32m    582\u001b[0m             \u001b[0;32mdef\u001b[0m \u001b[0mfunc_call\u001b[0m\u001b[0;34m(\u001b[0m\u001b[0;34m*\u001b[0m\u001b[0margs\u001b[0m\u001b[0;34m,\u001b[0m \u001b[0;34m**\u001b[0m\u001b[0mkwargs\u001b[0m\u001b[0;34m)\u001b[0m\u001b[0;34m:\u001b[0m\u001b[0;34m\u001b[0m\u001b[0;34m\u001b[0m\u001b[0m\n",
      "\u001b[0;32m~/Documents/ndx_stim/pynwb/src/pynwb/icephys.py\u001b[0m in \u001b[0;36madd_sequential_recording\u001b[0;34m(self, **kwargs)\u001b[0m\n\u001b[1;32m    731\u001b[0m         \u001b[0;32mand\u001b[0m \u001b[0massociated\u001b[0m \u001b[0mcustom\u001b[0m \u001b[0msequential\u001b[0m \u001b[0mrecording\u001b[0m  \u001b[0mmetadata\u001b[0m \u001b[0mto\u001b[0m \u001b[0mthe\u001b[0m \u001b[0mtable\u001b[0m\u001b[0;34m.\u001b[0m\u001b[0;34m\u001b[0m\u001b[0;34m\u001b[0m\u001b[0m\n\u001b[1;32m    732\u001b[0m         \"\"\"\n\u001b[0;32m--> 733\u001b[0;31m         \u001b[0m_\u001b[0m \u001b[0;34m=\u001b[0m \u001b[0msuper\u001b[0m\u001b[0;34m(\u001b[0m\u001b[0;34m)\u001b[0m\u001b[0;34m.\u001b[0m\u001b[0madd_row\u001b[0m\u001b[0;34m(\u001b[0m\u001b[0menforce_unique_id\u001b[0m\u001b[0;34m=\u001b[0m\u001b[0;32mTrue\u001b[0m\u001b[0;34m,\u001b[0m \u001b[0;34m**\u001b[0m\u001b[0mkwargs\u001b[0m\u001b[0;34m)\u001b[0m\u001b[0;34m\u001b[0m\u001b[0;34m\u001b[0m\u001b[0m\n\u001b[0m\u001b[1;32m    734\u001b[0m         \u001b[0;32mreturn\u001b[0m \u001b[0mlen\u001b[0m\u001b[0;34m(\u001b[0m\u001b[0mself\u001b[0m\u001b[0;34m.\u001b[0m\u001b[0mid\u001b[0m\u001b[0;34m)\u001b[0m \u001b[0;34m-\u001b[0m \u001b[0;36m1\u001b[0m\u001b[0;34m\u001b[0m\u001b[0;34m\u001b[0m\u001b[0m\n\u001b[1;32m    735\u001b[0m \u001b[0;34m\u001b[0m\u001b[0m\n",
      "\u001b[0;32m/opt/anaconda3/envs/pynwb_recurse/lib/python3.9/site-packages/hdmf/utils.py\u001b[0m in \u001b[0;36mfunc_call\u001b[0;34m(*args, **kwargs)\u001b[0m\n\u001b[1;32m    578\u001b[0m             \u001b[0;32mdef\u001b[0m \u001b[0mfunc_call\u001b[0m\u001b[0;34m(\u001b[0m\u001b[0;34m*\u001b[0m\u001b[0margs\u001b[0m\u001b[0;34m,\u001b[0m \u001b[0;34m**\u001b[0m\u001b[0mkwargs\u001b[0m\u001b[0;34m)\u001b[0m\u001b[0;34m:\u001b[0m\u001b[0;34m\u001b[0m\u001b[0;34m\u001b[0m\u001b[0m\n\u001b[1;32m    579\u001b[0m                 \u001b[0mpargs\u001b[0m \u001b[0;34m=\u001b[0m \u001b[0m_check_args\u001b[0m\u001b[0;34m(\u001b[0m\u001b[0margs\u001b[0m\u001b[0;34m,\u001b[0m \u001b[0mkwargs\u001b[0m\u001b[0;34m)\u001b[0m\u001b[0;34m\u001b[0m\u001b[0;34m\u001b[0m\u001b[0m\n\u001b[0;32m--> 580\u001b[0;31m                 \u001b[0;32mreturn\u001b[0m \u001b[0mfunc\u001b[0m\u001b[0;34m(\u001b[0m\u001b[0margs\u001b[0m\u001b[0;34m[\u001b[0m\u001b[0;36m0\u001b[0m\u001b[0;34m]\u001b[0m\u001b[0;34m,\u001b[0m \u001b[0;34m**\u001b[0m\u001b[0mpargs\u001b[0m\u001b[0;34m)\u001b[0m\u001b[0;34m\u001b[0m\u001b[0;34m\u001b[0m\u001b[0m\n\u001b[0m\u001b[1;32m    581\u001b[0m         \u001b[0;32melse\u001b[0m\u001b[0;34m:\u001b[0m\u001b[0;34m\u001b[0m\u001b[0;34m\u001b[0m\u001b[0m\n\u001b[1;32m    582\u001b[0m             \u001b[0;32mdef\u001b[0m \u001b[0mfunc_call\u001b[0m\u001b[0;34m(\u001b[0m\u001b[0;34m*\u001b[0m\u001b[0margs\u001b[0m\u001b[0;34m,\u001b[0m \u001b[0;34m**\u001b[0m\u001b[0mkwargs\u001b[0m\u001b[0;34m)\u001b[0m\u001b[0;34m:\u001b[0m\u001b[0;34m\u001b[0m\u001b[0;34m\u001b[0m\u001b[0m\n",
      "\u001b[0;32m/opt/anaconda3/envs/pynwb_recurse/lib/python3.9/site-packages/hdmf/common/table.py\u001b[0m in \u001b[0;36madd_row\u001b[0;34m(self, **kwargs)\u001b[0m\n\u001b[1;32m    583\u001b[0m         \u001b[0;32mif\u001b[0m \u001b[0menforce_unique_id\u001b[0m\u001b[0;34m:\u001b[0m\u001b[0;34m\u001b[0m\u001b[0;34m\u001b[0m\u001b[0m\n\u001b[1;32m    584\u001b[0m             \u001b[0;32mif\u001b[0m \u001b[0mrow_id\u001b[0m \u001b[0;32min\u001b[0m \u001b[0mself\u001b[0m\u001b[0;34m.\u001b[0m\u001b[0mid\u001b[0m\u001b[0;34m:\u001b[0m\u001b[0;34m\u001b[0m\u001b[0;34m\u001b[0m\u001b[0m\n\u001b[0;32m--> 585\u001b[0;31m                 \u001b[0;32mraise\u001b[0m \u001b[0mValueError\u001b[0m\u001b[0;34m(\u001b[0m\u001b[0;34m\"id %i already in the table\"\u001b[0m \u001b[0;34m%\u001b[0m \u001b[0mrow_id\u001b[0m\u001b[0;34m)\u001b[0m\u001b[0;34m\u001b[0m\u001b[0;34m\u001b[0m\u001b[0m\n\u001b[0m\u001b[1;32m    586\u001b[0m         \u001b[0mself\u001b[0m\u001b[0;34m.\u001b[0m\u001b[0mid\u001b[0m\u001b[0;34m.\u001b[0m\u001b[0mappend\u001b[0m\u001b[0;34m(\u001b[0m\u001b[0mrow_id\u001b[0m\u001b[0;34m)\u001b[0m\u001b[0;34m\u001b[0m\u001b[0;34m\u001b[0m\u001b[0m\n\u001b[1;32m    587\u001b[0m \u001b[0;34m\u001b[0m\u001b[0m\n",
      "\u001b[0;31mValueError\u001b[0m: id 201 already in the table"
     ]
    }
   ],
   "source": [
    "# Adding a set of sequential recordings\n",
    "\n",
    "seqrowindex = nwbfile.add_icephys_sequential_recording(simultaneous_recordings=simrowindex, \n",
    "                                                       stimulus_type='IV', \n",
    "                                                       id=201)"
   ]
  },
  {
   "cell_type": "code",
   "execution_count": 27,
   "metadata": {},
   "outputs": [
    {
     "data": {
      "text/plain": [
       "sequential_recordings pynwb.icephys.SequentialRecordingsTable at 0x4950681344\n",
       "Fields:\n",
       "  colnames: ['simultaneous_recordings' 'stimulus_type']\n",
       "  columns: (\n",
       "    simultaneous_recordings_index <class 'hdmf.common.table.VectorIndex'>,\n",
       "    simultaneous_recordings <class 'hdmf.common.table.DynamicTableRegion'>,\n",
       "    stimulus_type <class 'hdmf.common.table.VectorData'>\n",
       "  )\n",
       "  description: A table for grouping different intracellular recording simultaneous_recordings from the SimultaneousRecordingsTable table together. This is typically used to group together simultaneous_recordings where the a sequence of stimuli of the same type with varying parameters have been presented in a sequence.\n",
       "  id: id <class 'hdmf.common.table.ElementIdentifiers'>"
      ]
     },
     "execution_count": 27,
     "metadata": {},
     "output_type": "execute_result"
    }
   ],
   "source": [
    "nwbfile.icephys_sequential_recordings"
   ]
  },
  {
   "cell_type": "markdown",
   "metadata": {},
   "source": [
    "### Write"
   ]
  },
  {
   "cell_type": "code",
   "execution_count": null,
   "metadata": {},
   "outputs": [],
   "source": [
    "# Write the SFT out to file\n",
    "\n",
    "from pynwb import NWBHDF5IO\n",
    "\n",
    "io = NWBHDF5IO('sft_ert_geno.nwb', mode='w')\n",
    "io.write(nwbfile)\n",
    "io.close()"
   ]
  },
  {
   "cell_type": "code",
   "execution_count": null,
   "metadata": {},
   "outputs": [],
   "source": [
    "# Reading in the file I just wrote\n",
    "\n",
    "io = NWBHDF5IO('sft_ert_testy.nwb', mode='r', load_namespaces=True)\n",
    "sft_nwbfile = io.read()"
   ]
  },
  {
   "cell_type": "code",
   "execution_count": null,
   "metadata": {},
   "outputs": [],
   "source": [
    "# print(sft_nwbfile.acquisition)\n",
    "\n",
    "sft_in = sft_nwbfile.get_acquisition()"
   ]
  },
  {
   "cell_type": "code",
   "execution_count": null,
   "metadata": {},
   "outputs": [],
   "source": [
    "sft_in.to_dataframe()"
   ]
  },
  {
   "cell_type": "code",
   "execution_count": null,
   "metadata": {},
   "outputs": [],
   "source": [
    "sft_in['function_parameters'].target[0]"
   ]
  },
  {
   "cell_type": "code",
   "execution_count": null,
   "metadata": {},
   "outputs": [],
   "source": []
  }
 ],
 "metadata": {
  "kernelspec": {
   "display_name": "pynwb_recurse",
   "language": "python",
   "name": "pynwb_recurse"
  },
  "language_info": {
   "codemirror_mode": {
    "name": "ipython",
    "version": 3
   },
   "file_extension": ".py",
   "mimetype": "text/x-python",
   "name": "python",
   "nbconvert_exporter": "python",
   "pygments_lexer": "ipython3",
   "version": "3.9.5"
  }
 },
 "nbformat": 4,
 "nbformat_minor": 2
}
