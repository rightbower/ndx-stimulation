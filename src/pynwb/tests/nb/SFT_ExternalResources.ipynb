{
 "cells": [
  {
   "cell_type": "markdown",
   "metadata": {},
   "source": [
    "## Stimulus Function Tables and External Resources in NWB\n",
    "\n",
    "To prototype the inclusion of stimulus metadata in NWB files using the Estim ontology, we created an extension to the NWB schema for a stimulus function table that holds waveforms and their parameters, and show how this links to the new external resources table."
   ]
  },
  {
   "cell_type": "code",
   "execution_count": 1,
   "metadata": {},
   "outputs": [
    {
     "data": {
      "text/plain": [
       "{'ndx-stimulation': {'core': ('Container',\n",
       "   'Data',\n",
       "   'DynamicTable',\n",
       "   'ElementIdentifiers',\n",
       "   'VectorData'),\n",
       "  'hdmf-common': ('Data', 'VectorData', 'VectorIndex')}}"
      ]
     },
     "execution_count": 1,
     "metadata": {},
     "output_type": "execute_result"
    }
   ],
   "source": [
    "import datetime\n",
    "import inspect\n",
    "import numpy as np\n",
    "import pandas as pd\n",
    "import os\n",
    "\n",
    "from pynwb import NWBHDF5IO, NWBFile\n",
    "from pynwb.core import DynamicTableRegion, DynamicTable\n",
    "from pynwb.device import Device\n",
    "\n",
    "from pynwb import register_class, load_namespaces\n",
    "from hdmf.utils import docval, call_docval_func, getargs, get_docval\n",
    "\n",
    "\n",
    "\n",
    "# namespace for the SFT extension\n",
    "ndx_stimulation_specpath = '/Users/pam.baker/Documents/ndx_stim/ndx-stimulation/spec/ndx-stimulation.namespace.yaml'\n",
    "\n",
    "# Load the namespace                                                                                                 \n",
    "load_namespaces(ndx_stimulation_specpath)"
   ]
  },
  {
   "cell_type": "code",
   "execution_count": 2,
   "metadata": {},
   "outputs": [
    {
     "data": {
      "text/html": [
       "<style type=\"text/css\">\n",
       "table.dataframe td, table.dataframe th {\n",
       "    border: 1px  black solid !important;\n",
       "  color: black !important;\n",
       "}\n",
       "</style>\n"
      ],
      "text/plain": [
       "<IPython.core.display.HTML object>"
      ]
     },
     "metadata": {},
     "output_type": "display_data"
    }
   ],
   "source": [
    "%%HTML\n",
    "<style type=\"text/css\">\n",
    "table.dataframe td, table.dataframe th {\n",
    "    border: 1px  black solid !important;\n",
    "  color: black !important;\n",
    "}\n",
    "</style>"
   ]
  },
  {
   "cell_type": "markdown",
   "metadata": {},
   "source": [
    "The stimulus function table is designed to hold the names of stimulus waveforms and their relevant parameters - float parameters for numeric values and function parameters that reference other waveform functions (for parameter values that vary as a function of time)."
   ]
  },
  {
   "cell_type": "code",
   "execution_count": 3,
   "metadata": {},
   "outputs": [],
   "source": [
    "@register_class('StimulusFunctionTable', 'ndx-stimulation')\n",
    "class StimulusFunctionTable(DynamicTable):   \n",
    "    \n",
    "    __columns__ = ( \n",
    "                    {'name':'function_name', \n",
    "                     'description': 'The names of the 1D stimulus waveforms.',\n",
    "                     'required': True,\n",
    "                     'index': False},\n",
    "                    {'name':'float_parameters', \n",
    "                     'description': 'The names of the float parameters for the 1D stimulus waveforms.',\n",
    "                     'required': True,\n",
    "                     'index': True},\n",
    "                    {'name':'function_parameters',\n",
    "                     'description': 'The function parameters for the 1D stimulus waveforms.',\n",
    "                     'required': True,\n",
    "                     'index': True}\n",
    "    )\n",
    "    \n",
    "    \n",
    "    @docval(*get_docval(DynamicTable.__init__, 'id', 'columns', 'colnames'))\n",
    "    def __init__(self, **kwargs):\n",
    "        kwargs['name'] = ('StimulusFunctionTable')\n",
    "        kwargs['description'] = ('Table for storing ontologized 1D stimulus waveform metadata')\n",
    "        call_docval_func(super().__init__, kwargs)\n",
    "        "
   ]
  },
  {
   "cell_type": "markdown",
   "metadata": {},
   "source": [
    "We create an example stimulus function table to hold a couple of square waves with associated parameters. We use the add_row function inherited from Dynamic Tables to add new entries."
   ]
  },
  {
   "cell_type": "code",
   "execution_count": 4,
   "metadata": {},
   "outputs": [
    {
     "data": {
      "text/html": [
       "<div>\n",
       "<style scoped>\n",
       "    .dataframe tbody tr th:only-of-type {\n",
       "        vertical-align: middle;\n",
       "    }\n",
       "\n",
       "    .dataframe tbody tr th {\n",
       "        vertical-align: top;\n",
       "    }\n",
       "\n",
       "    .dataframe thead th {\n",
       "        text-align: right;\n",
       "    }\n",
       "</style>\n",
       "<table border=\"1\" class=\"dataframe\">\n",
       "  <thead>\n",
       "    <tr style=\"text-align: right;\">\n",
       "      <th></th>\n",
       "      <th>function_name</th>\n",
       "      <th>float_parameters</th>\n",
       "      <th>function_parameters</th>\n",
       "    </tr>\n",
       "    <tr>\n",
       "      <th>id</th>\n",
       "      <th></th>\n",
       "      <th></th>\n",
       "      <th></th>\n",
       "    </tr>\n",
       "  </thead>\n",
       "  <tbody>\n",
       "    <tr>\n",
       "      <th>0</th>\n",
       "      <td>sq</td>\n",
       "      <td>[(amplitude, -0.11, V), (duration, 0.5, s), (start_time, 0.1, s)]</td>\n",
       "      <td>[]</td>\n",
       "    </tr>\n",
       "    <tr>\n",
       "      <th>1</th>\n",
       "      <td>sq</td>\n",
       "      <td>[(amplitude, 0.09, V), (duration, 1, s), (start_time, 0.1, s)]</td>\n",
       "      <td>[]</td>\n",
       "    </tr>\n",
       "    <tr>\n",
       "      <th>2</th>\n",
       "      <td>ramp</td>\n",
       "      <td>[(amplitude, 0.2, V), (duration, 1, s), (start_time, 0.05, s)]</td>\n",
       "      <td>[]</td>\n",
       "    </tr>\n",
       "    <tr>\n",
       "      <th>3</th>\n",
       "      <td>sin</td>\n",
       "      <td>[(amplitude, 0.09, V), (duration, 1, s), (start_time, 0.1, s)]</td>\n",
       "      <td>[(frequency, 2, Hz)]</td>\n",
       "    </tr>\n",
       "  </tbody>\n",
       "</table>\n",
       "</div>"
      ],
      "text/plain": [
       "   function_name  \\\n",
       "id                 \n",
       "0             sq   \n",
       "1             sq   \n",
       "2           ramp   \n",
       "3            sin   \n",
       "\n",
       "                                                     float_parameters  \\\n",
       "id                                                                      \n",
       "0   [(amplitude, -0.11, V), (duration, 0.5, s), (start_time, 0.1, s)]   \n",
       "1      [(amplitude, 0.09, V), (duration, 1, s), (start_time, 0.1, s)]   \n",
       "2      [(amplitude, 0.2, V), (duration, 1, s), (start_time, 0.05, s)]   \n",
       "3      [(amplitude, 0.09, V), (duration, 1, s), (start_time, 0.1, s)]   \n",
       "\n",
       "     function_parameters  \n",
       "id                        \n",
       "0                     []  \n",
       "1                     []  \n",
       "2                     []  \n",
       "3   [(frequency, 2, Hz)]  "
      ]
     },
     "metadata": {},
     "output_type": "display_data"
    }
   ],
   "source": [
    "sft = StimulusFunctionTable()\n",
    "\n",
    "float_params_sq1 = [('amplitude', -0.110, 'V'), \n",
    "                    ('duration', 0.500, 's'),\n",
    "                    ('start_time', 0.1, 's')\n",
    "                   ]\n",
    "\n",
    "float_params_sq2 = [('amplitude', 0.090, 'V'), \n",
    "                    ('duration', 1, 's'),\n",
    "                    ('start_time', 0.1, 's')\n",
    "                   ]\n",
    "\n",
    "float_params_ramp = [('amplitude', 0.200, 'V'), \n",
    "                     ('duration', 1, 's'),\n",
    "                     ('start_time', 0.05, 's')\n",
    "                    ]\n",
    "\n",
    "float_params_sin = [('amplitude', 0.090, 'V'), \n",
    "                    ('duration', 1, 's'),\n",
    "                    ('start_time', 0.1, 's')\n",
    "                   ]\n",
    "\n",
    "func_params_sin = [('frequency', 2, 'Hz')]\n",
    "\n",
    "\n",
    "wave1 = {'function_name':'sq', \n",
    "         'float_parameters': float_params_sq1, \n",
    "         'function_parameters':[]}\n",
    "\n",
    "wave2 = {'function_name':'sq', \n",
    "         'float_parameters': float_params_sq2, \n",
    "         'function_parameters':[]}\n",
    "\n",
    "wave3 = {'function_name':'ramp', \n",
    "         'float_parameters': float_params_ramp, \n",
    "         'function_parameters':[]}\n",
    "\n",
    "wave4 = {'function_name':'sin', \n",
    "         'float_parameters': float_params_sin, \n",
    "         'function_parameters': func_params_sin}\n",
    "\n",
    "\n",
    "# Using add_row from DynamicTable\n",
    "\n",
    "sft.add_row(data = wave1)\n",
    "sft.add_row(data = wave2)\n",
    "sft.add_row(data = wave3)\n",
    "sft.add_row(data = wave4)\n",
    "\n",
    "\n",
    "pd.set_option(\"display.max_colwidth\", 100)\n",
    "\n",
    "display(sft.to_dataframe())"
   ]
  },
  {
   "cell_type": "markdown",
   "metadata": {},
   "source": [
    "## External Resources Table\n",
    "\n",
    "- Resources: eg ontology we are referencing\n",
    "- Entities: as defined by an entry in ontology/controlled terms\n",
    "- Keys: reference from object into the ER tables that maps onto entities \n",
    "- Objects: thing we are ontologizing (eg SFT)\n"
   ]
  },
  {
   "cell_type": "code",
   "execution_count": 5,
   "metadata": {},
   "outputs": [
    {
     "name": "stderr",
     "output_type": "stream",
     "text": [
      "/opt/anaconda3/envs/pynwb_prerel/lib/python3.8/site-packages/hdmf/container.py:181: UserWarning: ExternalResources is experimental -- it may be removed in the future and is not guaranteed to maintain backward compatibility\n",
      "  warn(_exp_warn_msg(cls))\n"
     ]
    }
   ],
   "source": [
    "from hdmf.common import ExternalResources\n",
    "from hdmf import Container, Data\n",
    "import pandas as pd\n",
    "\n",
    "er = ExternalResources(name='ExtResTable')"
   ]
  },
  {
   "cell_type": "markdown",
   "metadata": {},
   "source": [
    "The *StimulusFunctionTable* is the container object we will link to in the External Resources"
   ]
  },
  {
   "cell_type": "code",
   "execution_count": 6,
   "metadata": {},
   "outputs": [
    {
     "name": "stdout",
     "output_type": "stream",
     "text": [
      "5dc3b277-ac95-4e09-b2ff-dfad53ac8351\n"
     ]
    }
   ],
   "source": [
    "object_id = sft.object_id\n",
    "print(object_id)"
   ]
  },
  {
   "cell_type": "code",
   "execution_count": 9,
   "metadata": {},
   "outputs": [
    {
     "data": {
      "text/plain": [
       "(<hdmf.common.resources.Key at 0x19f557e50>,\n",
       " <hdmf.common.resources.Resource at 0x19f557a00>,\n",
       " <hdmf.common.resources.Entity at 0x19f557ee0>)"
      ]
     },
     "execution_count": 9,
     "metadata": {},
     "output_type": "execute_result"
    }
   ],
   "source": [
    "# add_ref creates an entry across all tables (entities, keys, objects, resources)\n",
    "\n",
    "er.add_ref(container = object_id, \n",
    "           field='', \n",
    "           key='sq',\n",
    "           resource_name='Estim Ontology',\n",
    "           resource_uri='Estim_Onto_uri',\n",
    "           entity_id='Estim_square_ID',\n",
    "           entity_uri='Estim_square_uri'\n",
    "          )\n",
    "\n",
    "er.add_ref(container = object_id, \n",
    "           field='', \n",
    "           key='duration',\n",
    "           resource_name='Estim Ontology',\n",
    "           resource_uri='Estim_Onto_uri',\n",
    "           entity_id='Estim_duration_ID',\n",
    "           entity_uri='Estim_duration_uri'\n",
    "          )\n",
    "\n",
    "er.add_ref(container = object_id, \n",
    "           field='', \n",
    "           key='amplitude',\n",
    "           resource_name='Estim Ontology',\n",
    "           resource_uri='Estim_Onto_uri',\n",
    "           entity_id='Estim_amplitude_ID',\n",
    "           entity_uri='Estim_amplitude_uri'\n",
    "          )\n",
    "\n",
    "er.add_ref(container = object_id, \n",
    "           field='', \n",
    "           key='start_time',\n",
    "           resource_name='Estim Ontology',\n",
    "           resource_uri='Estim_Onto_uri',\n",
    "           entity_id='Estim_shift_ID',\n",
    "           entity_uri='Estim_shift_uri'\n",
    "          )\n"
   ]
  },
  {
   "cell_type": "code",
   "execution_count": 10,
   "metadata": {},
   "outputs": [
    {
     "data": {
      "text/html": [
       "<div>\n",
       "<style scoped>\n",
       "    .dataframe tbody tr th:only-of-type {\n",
       "        vertical-align: middle;\n",
       "    }\n",
       "\n",
       "    .dataframe tbody tr th {\n",
       "        vertical-align: top;\n",
       "    }\n",
       "\n",
       "    .dataframe thead th {\n",
       "        text-align: right;\n",
       "    }\n",
       "</style>\n",
       "<table border=\"1\" class=\"dataframe\">\n",
       "  <thead>\n",
       "    <tr style=\"text-align: right;\">\n",
       "      <th></th>\n",
       "      <th>resource</th>\n",
       "      <th>resource_uri</th>\n",
       "    </tr>\n",
       "  </thead>\n",
       "  <tbody>\n",
       "    <tr>\n",
       "      <th>0</th>\n",
       "      <td>Estim Ontology</td>\n",
       "      <td>Estim_Onto_uri</td>\n",
       "    </tr>\n",
       "  </tbody>\n",
       "</table>\n",
       "</div>"
      ],
      "text/plain": [
       "         resource    resource_uri\n",
       "0  Estim Ontology  Estim_Onto_uri"
      ]
     },
     "execution_count": 10,
     "metadata": {},
     "output_type": "execute_result"
    }
   ],
   "source": [
    "er.resources.to_dataframe()"
   ]
  },
  {
   "cell_type": "code",
   "execution_count": 11,
   "metadata": {},
   "outputs": [
    {
     "data": {
      "text/html": [
       "<div>\n",
       "<style scoped>\n",
       "    .dataframe tbody tr th:only-of-type {\n",
       "        vertical-align: middle;\n",
       "    }\n",
       "\n",
       "    .dataframe tbody tr th {\n",
       "        vertical-align: top;\n",
       "    }\n",
       "\n",
       "    .dataframe thead th {\n",
       "        text-align: right;\n",
       "    }\n",
       "</style>\n",
       "<table border=\"1\" class=\"dataframe\">\n",
       "  <thead>\n",
       "    <tr style=\"text-align: right;\">\n",
       "      <th></th>\n",
       "      <th>key</th>\n",
       "    </tr>\n",
       "  </thead>\n",
       "  <tbody>\n",
       "    <tr>\n",
       "      <th>0</th>\n",
       "      <td>sq</td>\n",
       "    </tr>\n",
       "    <tr>\n",
       "      <th>1</th>\n",
       "      <td>duration</td>\n",
       "    </tr>\n",
       "    <tr>\n",
       "      <th>2</th>\n",
       "      <td>amplitude</td>\n",
       "    </tr>\n",
       "    <tr>\n",
       "      <th>3</th>\n",
       "      <td>start_time</td>\n",
       "    </tr>\n",
       "  </tbody>\n",
       "</table>\n",
       "</div>"
      ],
      "text/plain": [
       "          key\n",
       "0          sq\n",
       "1    duration\n",
       "2   amplitude\n",
       "3  start_time"
      ]
     },
     "execution_count": 11,
     "metadata": {},
     "output_type": "execute_result"
    }
   ],
   "source": [
    "er.keys.to_dataframe()"
   ]
  },
  {
   "cell_type": "code",
   "execution_count": 12,
   "metadata": {},
   "outputs": [
    {
     "data": {
      "text/html": [
       "<div>\n",
       "<style scoped>\n",
       "    .dataframe tbody tr th:only-of-type {\n",
       "        vertical-align: middle;\n",
       "    }\n",
       "\n",
       "    .dataframe tbody tr th {\n",
       "        vertical-align: top;\n",
       "    }\n",
       "\n",
       "    .dataframe thead th {\n",
       "        text-align: right;\n",
       "    }\n",
       "</style>\n",
       "<table border=\"1\" class=\"dataframe\">\n",
       "  <thead>\n",
       "    <tr style=\"text-align: right;\">\n",
       "      <th></th>\n",
       "      <th>keys_idx</th>\n",
       "      <th>resources_idx</th>\n",
       "      <th>entity_id</th>\n",
       "      <th>entity_uri</th>\n",
       "    </tr>\n",
       "  </thead>\n",
       "  <tbody>\n",
       "    <tr>\n",
       "      <th>0</th>\n",
       "      <td>0</td>\n",
       "      <td>0</td>\n",
       "      <td>Estim_square_ID</td>\n",
       "      <td>Estim_square_uri</td>\n",
       "    </tr>\n",
       "    <tr>\n",
       "      <th>1</th>\n",
       "      <td>1</td>\n",
       "      <td>0</td>\n",
       "      <td>Estim_duration_ID</td>\n",
       "      <td>Estim_duration_uri</td>\n",
       "    </tr>\n",
       "    <tr>\n",
       "      <th>2</th>\n",
       "      <td>2</td>\n",
       "      <td>0</td>\n",
       "      <td>Estim_amplitude_ID</td>\n",
       "      <td>Estim_amplitude_uri</td>\n",
       "    </tr>\n",
       "    <tr>\n",
       "      <th>3</th>\n",
       "      <td>3</td>\n",
       "      <td>0</td>\n",
       "      <td>Estim_shift_ID</td>\n",
       "      <td>Estim_shift_uri</td>\n",
       "    </tr>\n",
       "  </tbody>\n",
       "</table>\n",
       "</div>"
      ],
      "text/plain": [
       "   keys_idx  resources_idx           entity_id           entity_uri\n",
       "0         0              0     Estim_square_ID     Estim_square_uri\n",
       "1         1              0   Estim_duration_ID   Estim_duration_uri\n",
       "2         2              0  Estim_amplitude_ID  Estim_amplitude_uri\n",
       "3         3              0      Estim_shift_ID      Estim_shift_uri"
      ]
     },
     "execution_count": 12,
     "metadata": {},
     "output_type": "execute_result"
    }
   ],
   "source": [
    "er.entities.to_dataframe()"
   ]
  },
  {
   "cell_type": "code",
   "execution_count": null,
   "metadata": {},
   "outputs": [],
   "source": [
    "k=er.add_key(key_name='sq')\n",
    "er.keys.to_dataframe()"
   ]
  },
  {
   "cell_type": "code",
   "execution_count": null,
   "metadata": {},
   "outputs": [],
   "source": [
    "key_object = er.get_key(key_name='sq')\n",
    "print(key_object)"
   ]
  },
  {
   "cell_type": "markdown",
   "metadata": {},
   "source": [
    "### Write"
   ]
  },
  {
   "cell_type": "code",
   "execution_count": 13,
   "metadata": {},
   "outputs": [],
   "source": [
    "from datetime import datetime\n",
    "from dateutil.tz import tzlocal\n",
    "\n",
    "start_time = datetime(2017, 4, 3, 11, tzinfo=tzlocal())\n",
    "create_date = datetime(2017, 4, 15, 12, tzinfo=tzlocal())\n",
    "\n",
    "\n",
    "nwbfile = NWBFile('demo', 'NWB456', start_time,\n",
    "                  file_create_date=create_date)\n",
    "\n",
    "nwbfile.add_acquisition(sft)"
   ]
  },
  {
   "cell_type": "code",
   "execution_count": 14,
   "metadata": {},
   "outputs": [],
   "source": [
    "# Write the SFT out to file\n",
    "\n",
    "from pynwb import NWBHDF5IO\n",
    "\n",
    "io = NWBHDF5IO('sft_ert_testy.nwb', mode='w')\n",
    "io.write(nwbfile)\n",
    "io.close()"
   ]
  },
  {
   "cell_type": "code",
   "execution_count": 16,
   "metadata": {},
   "outputs": [],
   "source": [
    "# Reading in the file I just wrote\n",
    "\n",
    "io = NWBHDF5IO('sft_ert_testy.nwb', mode='r', load_namespaces=True)\n",
    "sft_nwbfile = io.read()"
   ]
  },
  {
   "cell_type": "code",
   "execution_count": null,
   "metadata": {},
   "outputs": [],
   "source": [
    "# print(sft_nwbfile.acquisition)\n",
    "\n",
    "sft_in = sft_nwbfile.get_acquisition()"
   ]
  },
  {
   "cell_type": "code",
   "execution_count": null,
   "metadata": {},
   "outputs": [],
   "source": [
    "sft_in.to_dataframe()"
   ]
  },
  {
   "cell_type": "code",
   "execution_count": null,
   "metadata": {},
   "outputs": [],
   "source": [
    "sft_in['function_parameters'].target[0]"
   ]
  },
  {
   "cell_type": "code",
   "execution_count": null,
   "metadata": {},
   "outputs": [],
   "source": []
  }
 ],
 "metadata": {
  "kernelspec": {
   "display_name": "pynwb_prerel",
   "language": "python",
   "name": "pynwb_prerel"
  },
  "language_info": {
   "codemirror_mode": {
    "name": "ipython",
    "version": 3
   },
   "file_extension": ".py",
   "mimetype": "text/x-python",
   "name": "python",
   "nbconvert_exporter": "python",
   "pygments_lexer": "ipython3",
   "version": "3.8.5"
  }
 },
 "nbformat": 4,
 "nbformat_minor": 2
}
