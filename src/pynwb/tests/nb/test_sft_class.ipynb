{
 "cells": [
  {
   "cell_type": "code",
   "execution_count": 36,
   "metadata": {},
   "outputs": [],
   "source": [
    "import datetime\n",
    "import inspect\n",
    "import numpy as np\n",
    "\n",
    "from pynwb import NWBHDF5IO, NWBFile\n",
    "from pynwb.core import DynamicTableRegion, DynamicTable\n",
    "from pynwb.device import Device\n",
    "from pynwb.testing import TestCase, remove_test_file, AcquisitionH5IOMixin\n",
    "\n",
    "#from ndx_stimulation import StimulusFunctionTable\n",
    "import os\n",
    "from pynwb import load_namespaces, get_class"
   ]
  },
  {
   "cell_type": "code",
   "execution_count": 37,
   "metadata": {},
   "outputs": [
    {
     "data": {
      "text/plain": [
       "'/Users/pam.baker/Documents/ndx_stim/ndx-stimulation/src/pynwb/tests'"
      ]
     },
     "execution_count": 37,
     "metadata": {},
     "output_type": "execute_result"
    }
   ],
   "source": [
    "cwd = os.getcwd()\n",
    "cwd"
   ]
  },
  {
   "cell_type": "code",
   "execution_count": 38,
   "metadata": {},
   "outputs": [],
   "source": [
    "# Set path of the namespace.yaml file to the expected install location                                                  \n",
    "#ndx_stimulation_specpath = os.path.join(\n",
    "#    os.path.dirname(__file__),\n",
    "#    'spec',\n",
    "#    'ndx-stimulation.namespace.yaml'\n",
    "#)\n",
    "ndx_stimulation_specpath = '/Users/pam.baker/Documents/ndx_stim/ndx-stimulation/spec/ndx-stimulation.namespace.yaml'"
   ]
  },
  {
   "cell_type": "code",
   "execution_count": 39,
   "metadata": {},
   "outputs": [
    {
     "data": {
      "text/plain": [
       "{'ndx-stimulation': {'core': ('Container', 'DynamicTable'),\n",
       "  'hdmf-common': ('DynamicTableRegion', 'VectorIndex', 'VectorData')}}"
      ]
     },
     "execution_count": 39,
     "metadata": {},
     "output_type": "execute_result"
    }
   ],
   "source": [
    "# Load the namespace                                                                                                 \n",
    "load_namespaces(ndx_stimulation_specpath)"
   ]
  },
  {
   "cell_type": "code",
   "execution_count": 40,
   "metadata": {},
   "outputs": [
    {
     "name": "stdout",
     "output_type": "stream",
     "text": [
      "<property object at 0x11c955110>\n"
     ]
    }
   ],
   "source": [
    "StimulusFunctionTable = get_class('StimulusFunctionTable', 'ndx-stimulation')\n",
    "yay = StimulusFunctionTable.colnames\n",
    "print(StimulusFunctionTable.colnames)"
   ]
  },
  {
   "cell_type": "code",
   "execution_count": 41,
   "metadata": {},
   "outputs": [
    {
     "name": "stdout",
     "output_type": "stream",
     "text": [
      "[('_AbstractContainer__gather_fields',\n",
      "  <bound method AbstractContainer.__gather_fields of <class 'abc.StimulusFunctionTable'>>),\n",
      " ('_Container__smart_str', <function Container.__smart_str at 0x119d10ef0>),\n",
      " ('_Container__smart_str_dict',\n",
      "  <function Container.__smart_str_dict at 0x119d14050>),\n",
      " ('_Container__smart_str_list',\n",
      "  <function Container.__smart_str_list at 0x119d10f80>),\n",
      " ('_DynamicTable__build_columns',\n",
      "  <function DynamicTable.__build_columns at 0x11c945cb0>),\n",
      " ('_DynamicTable__gather_columns',\n",
      "  <bound method DynamicTable.__gather_columns of <class 'abc.StimulusFunctionTable'>>),\n",
      " ('__abstractmethods__', frozenset()),\n",
      " ('__class__', <class 'hdmf.utils.ExtenderMeta'>),\n",
      " ('__columns__', ()),\n",
      " ('__contains__', <function DynamicTable.__contains__ at 0x11c9503b0>),\n",
      " ('__delattr__', <slot wrapper '__delattr__' of 'object' objects>),\n",
      " ('__dict__',\n",
      "  mappingproxy({'__abstractmethods__': frozenset(),\n",
      "                '__doc__': None,\n",
      "                '__fields__': ('id',\n",
      "                               'columns',\n",
      "                               'colnames',\n",
      "                               'description',\n",
      "                               'description',\n",
      "                               'function_name',\n",
      "                               'floatp_name',\n",
      "                               'floatp_value',\n",
      "                               'floatp_unit',\n",
      "                               'funcp_name',\n",
      "                               'funcp_function_index',\n",
      "                               'funcp_function_index_index',\n",
      "                               'funcp_unit'),\n",
      "                '__init__': <function docval.<locals>.dec.<locals>.func_call at 0x11e768290>,\n",
      "                '__module__': 'abc',\n",
      "                '_abc_impl': <_abc_data object at 0x11e37c0f0>,\n",
      "                'floatp_name': <property object at 0x11e799710>,\n",
      "                'floatp_unit': <property object at 0x11e7997d0>,\n",
      "                'floatp_value': <property object at 0x11e799770>,\n",
      "                'funcp_function_index': <property object at 0x11e799890>,\n",
      "                'funcp_function_index_index': <property object at 0x11e7998f0>,\n",
      "                'funcp_name': <property object at 0x11e799830>,\n",
      "                'funcp_unit': <property object at 0x11e799950>,\n",
      "                'function_name': <property object at 0x11e7996b0>,\n",
      "                'namespace': 'ndx-stimulation',\n",
      "                'neurodata_type': 'StimulusFunctionTable'})),\n",
      " ('__dir__', <method '__dir__' of 'object' objects>),\n",
      " ('__doc__', None),\n",
      " ('__eq__', <function DynamicTable.__eq__ at 0x11c945ef0>),\n",
      " ('__fields__',\n",
      "  ('id',\n",
      "   'columns',\n",
      "   'colnames',\n",
      "   'description',\n",
      "   'description',\n",
      "   'function_name',\n",
      "   'floatp_name',\n",
      "   'floatp_value',\n",
      "   'floatp_unit',\n",
      "   'funcp_name',\n",
      "   'funcp_function_index',\n",
      "   'funcp_function_index_index',\n",
      "   'funcp_unit')),\n",
      " ('__format__', <method '__format__' of 'object' objects>),\n",
      " ('__ge__', <slot wrapper '__ge__' of 'object' objects>),\n",
      " ('__getattribute__', <slot wrapper '__getattribute__' of 'object' objects>),\n",
      " ('__getitem__', <function DynamicTable.__getitem__ at 0x11c9500e0>),\n",
      " ('__gt__', <slot wrapper '__gt__' of 'object' objects>),\n",
      " ('__hash__', None),\n",
      " ('__init__', <function docval.<locals>.dec.<locals>.func_call at 0x11e768290>),\n",
      " ('__init_subclass__',\n",
      "  <built-in method __init_subclass__ of ExtenderMeta object at 0x7fa0e8614590>),\n",
      " ('__le__', <slot wrapper '__le__' of 'object' objects>),\n",
      " ('__len__', <function DynamicTable.__len__ at 0x11c945e60>),\n",
      " ('__lt__', <slot wrapper '__lt__' of 'object' objects>),\n",
      " ('__module__', 'abc'),\n",
      " ('__ne__', <slot wrapper '__ne__' of 'object' objects>),\n",
      " ('__new__', <function AbstractContainer.__new__ at 0x119cff8c0>),\n",
      " ('__reduce__', <method '__reduce__' of 'object' objects>),\n",
      " ('__reduce_ex__', <method '__reduce_ex__' of 'object' objects>),\n",
      " ('__repr__', <function Container.__repr__ at 0x119d10e60>),\n",
      " ('__setattr__', <slot wrapper '__setattr__' of 'object' objects>),\n",
      " ('__sizeof__', <method '__sizeof__' of 'object' objects>),\n",
      " ('__str__', <slot wrapper '__str__' of 'object' objects>),\n",
      " ('__subclasshook__',\n",
      "  <built-in method __subclasshook__ of ExtenderMeta object at 0x7fa0e8614590>),\n",
      " ('__weakref__', <attribute '__weakref__' of 'AbstractContainer' objects>),\n",
      " ('_abc_impl', <_abc_data object at 0x11e37c0f0>),\n",
      " ('_check_field_spec',\n",
      "  <function AbstractContainer._check_field_spec at 0x119cff3b0>),\n",
      " ('_data_type_attr', 'data_type'),\n",
      " ('_fieldsname', '__fields__'),\n",
      " ('_getter',\n",
      "  <bound method AbstractContainer._getter of <class 'abc.StimulusFunctionTable'>>),\n",
      " ('_pconf_allowed_keys', {'doc', 'required_name', 'settable', 'child', 'name'}),\n",
      " ('_setter',\n",
      "  <bound method Container._setter of <class 'abc.StimulusFunctionTable'>>),\n",
      " ('add_child',\n",
      "  <function docval.<locals>.dec.<locals>.func_call at 0x119d10b00>),\n",
      " ('add_column',\n",
      "  <function docval.<locals>.dec.<locals>.func_call at 0x11c950200>),\n",
      " ('add_row', <function docval.<locals>.dec.<locals>.func_call at 0x11c950050>),\n",
      " ('children', <property object at 0x119d07bf0>),\n",
      " ('colnames', <property object at 0x11c955110>),\n",
      " ('columns', <property object at 0x11c9550b0>),\n",
      " ('container_source', <property object at 0x119d07cb0>),\n",
      " ('copy', <function DynamicTable.copy at 0x11c9504d0>),\n",
      " ('create_region',\n",
      "  <function docval.<locals>.dec.<locals>.func_call at 0x11c950320>),\n",
      " ('data_type', 'DynamicTable'),\n",
      " ('description', <property object at 0x11c955170>),\n",
      " ('fields', <property object at 0x119cfed10>),\n",
      " ('floatp_name', <property object at 0x11e799710>),\n",
      " ('floatp_unit', <property object at 0x11e7997d0>),\n",
      " ('floatp_value', <property object at 0x11e799770>),\n",
      " ('from_dataframe',\n",
      "  <bound method docval.<locals>.dec.<locals>.func_call of <class 'abc.StimulusFunctionTable'>>),\n",
      " ('funcp_function_index', <property object at 0x11e799890>),\n",
      " ('funcp_function_index_index', <property object at 0x11e7998f0>),\n",
      " ('funcp_name', <property object at 0x11e799830>),\n",
      " ('funcp_unit', <property object at 0x11e799950>),\n",
      " ('function_name', <property object at 0x11e7996b0>),\n",
      " ('get', <function DynamicTable.get at 0x11c950440>),\n",
      " ('get_ancestor',\n",
      "  <function docval.<locals>.dec.<locals>.func_call at 0x119d0bd40>),\n",
      " ('id', <property object at 0x11c955050>),\n",
      " ('modified', <property object at 0x119d07b90>),\n",
      " ('name', <property object at 0x119cf3dd0>),\n",
      " ('namespace', 'ndx-stimulation'),\n",
      " ('neurodata_type', 'StimulusFunctionTable'),\n",
      " ('object_id', <property object at 0x119d07b30>),\n",
      " ('parent', <property object at 0x119d07d10>),\n",
      " ('set_modified',\n",
      "  <function docval.<locals>.dec.<locals>.func_call at 0x119d108c0>),\n",
      " ('to_dataframe',\n",
      "  <function docval.<locals>.dec.<locals>.func_call at 0x11c9505f0>),\n",
      " ('type_hierarchy',\n",
      "  <bound method AbstractContainer.type_hierarchy of <class 'abc.StimulusFunctionTable'>>)]\n"
     ]
    }
   ],
   "source": [
    "import inspect\n",
    "from pprint import pprint\n",
    "\n",
    "yay  = inspect.getmembers(StimulusFunctionTable)\n",
    "pprint(yay)"
   ]
  },
  {
   "cell_type": "code",
   "execution_count": 22,
   "metadata": {},
   "outputs": [
    {
     "data": {
      "text/plain": [
       "[('__class__', property),\n",
       " ('__delattr__',\n",
       "  <method-wrapper '__delattr__' of property object at 0x11c9550b0>),\n",
       " ('__delete__',\n",
       "  <method-wrapper '__delete__' of property object at 0x11c9550b0>),\n",
       " ('__dir__', <function property.__dir__()>),\n",
       " ('__doc__', 'the columns in this table'),\n",
       " ('__eq__', <method-wrapper '__eq__' of property object at 0x11c9550b0>),\n",
       " ('__format__', <function property.__format__(format_spec, /)>),\n",
       " ('__ge__', <method-wrapper '__ge__' of property object at 0x11c9550b0>),\n",
       " ('__get__', <method-wrapper '__get__' of property object at 0x11c9550b0>),\n",
       " ('__getattribute__',\n",
       "  <method-wrapper '__getattribute__' of property object at 0x11c9550b0>),\n",
       " ('__gt__', <method-wrapper '__gt__' of property object at 0x11c9550b0>),\n",
       " ('__hash__', <method-wrapper '__hash__' of property object at 0x11c9550b0>),\n",
       " ('__init__', <method-wrapper '__init__' of property object at 0x11c9550b0>),\n",
       " ('__init_subclass__', <function property.__init_subclass__>),\n",
       " ('__isabstractmethod__', False),\n",
       " ('__le__', <method-wrapper '__le__' of property object at 0x11c9550b0>),\n",
       " ('__lt__', <method-wrapper '__lt__' of property object at 0x11c9550b0>),\n",
       " ('__ne__', <method-wrapper '__ne__' of property object at 0x11c9550b0>),\n",
       " ('__new__', <function property.__new__(*args, **kwargs)>),\n",
       " ('__reduce__', <function property.__reduce__()>),\n",
       " ('__reduce_ex__', <function property.__reduce_ex__(protocol, /)>),\n",
       " ('__repr__', <method-wrapper '__repr__' of property object at 0x11c9550b0>),\n",
       " ('__set__', <method-wrapper '__set__' of property object at 0x11c9550b0>),\n",
       " ('__setattr__',\n",
       "  <method-wrapper '__setattr__' of property object at 0x11c9550b0>),\n",
       " ('__sizeof__', <function property.__sizeof__()>),\n",
       " ('__str__', <method-wrapper '__str__' of property object at 0x11c9550b0>),\n",
       " ('__subclasshook__', <function property.__subclasshook__>),\n",
       " ('deleter', <function property.deleter>),\n",
       " ('fdel', None),\n",
       " ('fget',\n",
       "  <function hdmf.container.AbstractContainer._getter.<locals>.getter(self)>),\n",
       " ('fset',\n",
       "  <function hdmf.container.Container._setter.<locals>.container_setter(self, val)>),\n",
       " ('getter', <function property.getter>),\n",
       " ('setter', <function property.setter>)]"
      ]
     },
     "execution_count": 22,
     "metadata": {},
     "output_type": "execute_result"
    }
   ],
   "source": [
    "inspect.getmembers(StimulusFunctionTable.columns)"
   ]
  },
  {
   "cell_type": "code",
   "execution_count": 44,
   "metadata": {},
   "outputs": [
    {
     "ename": "IndexError",
     "evalue": "tuple index out of range",
     "output_type": "error",
     "traceback": [
      "\u001b[0;31m---------------------------------------------------------------------------\u001b[0m",
      "\u001b[0;31mIndexError\u001b[0m                                Traceback (most recent call last)",
      "\u001b[0;32m<ipython-input-44-4be279baf692>\u001b[0m in \u001b[0;36m<module>\u001b[0;34m\u001b[0m\n\u001b[0;32m----> 1\u001b[0;31m \u001b[0mStimulusFunctionTable\u001b[0m\u001b[0;34m.\u001b[0m\u001b[0mto_dataframe\u001b[0m\u001b[0;34m(\u001b[0m\u001b[0;34m)\u001b[0m\u001b[0;34m\u001b[0m\u001b[0;34m\u001b[0m\u001b[0m\n\u001b[0m",
      "\u001b[0;32m/opt/anaconda3/lib/python3.7/site-packages/hdmf/utils.py\u001b[0m in \u001b[0;36mfunc_call\u001b[0;34m(*args, **kwargs)\u001b[0m\n\u001b[1;32m    481\u001b[0m \u001b[0;34m\u001b[0m\u001b[0m\n\u001b[1;32m    482\u001b[0m             \u001b[0;32mif\u001b[0m \u001b[0mis_method\u001b[0m\u001b[0;34m:\u001b[0m\u001b[0;34m\u001b[0m\u001b[0;34m\u001b[0m\u001b[0m\n\u001b[0;32m--> 483\u001b[0;31m                 \u001b[0;32mreturn\u001b[0m \u001b[0mfunc\u001b[0m\u001b[0;34m(\u001b[0m\u001b[0margs\u001b[0m\u001b[0;34m[\u001b[0m\u001b[0;36m0\u001b[0m\u001b[0;34m]\u001b[0m\u001b[0;34m,\u001b[0m \u001b[0;34m**\u001b[0m\u001b[0mparsed\u001b[0m\u001b[0;34m[\u001b[0m\u001b[0;34m'args'\u001b[0m\u001b[0;34m]\u001b[0m\u001b[0;34m)\u001b[0m\u001b[0;34m\u001b[0m\u001b[0;34m\u001b[0m\u001b[0m\n\u001b[0m\u001b[1;32m    484\u001b[0m             \u001b[0;32melse\u001b[0m\u001b[0;34m:\u001b[0m\u001b[0;34m\u001b[0m\u001b[0;34m\u001b[0m\u001b[0m\n\u001b[1;32m    485\u001b[0m                 \u001b[0;32mreturn\u001b[0m \u001b[0mfunc\u001b[0m\u001b[0;34m(\u001b[0m\u001b[0;34m**\u001b[0m\u001b[0mparsed\u001b[0m\u001b[0;34m[\u001b[0m\u001b[0;34m'args'\u001b[0m\u001b[0;34m]\u001b[0m\u001b[0;34m)\u001b[0m\u001b[0;34m\u001b[0m\u001b[0;34m\u001b[0m\u001b[0m\n",
      "\u001b[0;31mIndexError\u001b[0m: tuple index out of range"
     ]
    }
   ],
   "source": [
    "StimulusFunctionTable.to_dataframe()"
   ]
  },
  {
   "cell_type": "code",
   "execution_count": 35,
   "metadata": {},
   "outputs": [
    {
     "data": {
      "text/plain": [
       "hdmf.utils.ExtenderMeta"
      ]
     },
     "execution_count": 35,
     "metadata": {},
     "output_type": "execute_result"
    }
   ],
   "source": [
    "type(StimulusFunctionTable)"
   ]
  },
  {
   "cell_type": "code",
   "execution_count": 48,
   "metadata": {},
   "outputs": [
    {
     "ename": "AttributeError",
     "evalue": "'dict' object has no attribute '_DynamicTable__colids'",
     "output_type": "error",
     "traceback": [
      "\u001b[0;31m---------------------------------------------------------------------------\u001b[0m",
      "\u001b[0;31mAttributeError\u001b[0m                            Traceback (most recent call last)",
      "\u001b[0;32m<ipython-input-48-369abd9d3317>\u001b[0m in \u001b[0;36m<module>\u001b[0;34m\u001b[0m\n\u001b[1;32m      1\u001b[0m \u001b[0mmydata\u001b[0m \u001b[0;34m=\u001b[0m \u001b[0;34m{\u001b[0m\u001b[0;34m'function_name'\u001b[0m\u001b[0;34m:\u001b[0m\u001b[0;34m'sq'\u001b[0m\u001b[0;34m}\u001b[0m\u001b[0;34m\u001b[0m\u001b[0;34m\u001b[0m\u001b[0m\n\u001b[0;32m----> 2\u001b[0;31m \u001b[0mStimulusFunctionTable\u001b[0m\u001b[0;34m.\u001b[0m\u001b[0madd_row\u001b[0m\u001b[0;34m(\u001b[0m\u001b[0mmydata\u001b[0m\u001b[0;34m)\u001b[0m\u001b[0;34m\u001b[0m\u001b[0;34m\u001b[0m\u001b[0m\n\u001b[0m\u001b[1;32m      3\u001b[0m \u001b[0;34m\u001b[0m\u001b[0m\n\u001b[1;32m      4\u001b[0m \u001b[0;31m# add_row(data=None, id=None, enforce_unique_id=False)\u001b[0m\u001b[0;34m\u001b[0m\u001b[0;34m\u001b[0m\u001b[0;34m\u001b[0m\u001b[0m\n",
      "\u001b[0;32m/opt/anaconda3/lib/python3.7/site-packages/hdmf/utils.py\u001b[0m in \u001b[0;36mfunc_call\u001b[0;34m(*args, **kwargs)\u001b[0m\n\u001b[1;32m    481\u001b[0m \u001b[0;34m\u001b[0m\u001b[0m\n\u001b[1;32m    482\u001b[0m             \u001b[0;32mif\u001b[0m \u001b[0mis_method\u001b[0m\u001b[0;34m:\u001b[0m\u001b[0;34m\u001b[0m\u001b[0;34m\u001b[0m\u001b[0m\n\u001b[0;32m--> 483\u001b[0;31m                 \u001b[0;32mreturn\u001b[0m \u001b[0mfunc\u001b[0m\u001b[0;34m(\u001b[0m\u001b[0margs\u001b[0m\u001b[0;34m[\u001b[0m\u001b[0;36m0\u001b[0m\u001b[0;34m]\u001b[0m\u001b[0;34m,\u001b[0m \u001b[0;34m**\u001b[0m\u001b[0mparsed\u001b[0m\u001b[0;34m[\u001b[0m\u001b[0;34m'args'\u001b[0m\u001b[0;34m]\u001b[0m\u001b[0;34m)\u001b[0m\u001b[0;34m\u001b[0m\u001b[0;34m\u001b[0m\u001b[0m\n\u001b[0m\u001b[1;32m    484\u001b[0m             \u001b[0;32melse\u001b[0m\u001b[0;34m:\u001b[0m\u001b[0;34m\u001b[0m\u001b[0;34m\u001b[0m\u001b[0m\n\u001b[1;32m    485\u001b[0m                 \u001b[0;32mreturn\u001b[0m \u001b[0mfunc\u001b[0m\u001b[0;34m(\u001b[0m\u001b[0;34m**\u001b[0m\u001b[0mparsed\u001b[0m\u001b[0;34m[\u001b[0m\u001b[0;34m'args'\u001b[0m\u001b[0;34m]\u001b[0m\u001b[0;34m)\u001b[0m\u001b[0;34m\u001b[0m\u001b[0;34m\u001b[0m\u001b[0m\n",
      "\u001b[0;32m/opt/anaconda3/lib/python3.7/site-packages/hdmf/common/table.py\u001b[0m in \u001b[0;36madd_row\u001b[0;34m(self, **kwargs)\u001b[0m\n\u001b[1;32m    360\u001b[0m         \u001b[0mdata\u001b[0m \u001b[0;34m=\u001b[0m \u001b[0mdata\u001b[0m \u001b[0;32mif\u001b[0m \u001b[0mdata\u001b[0m \u001b[0;32mis\u001b[0m \u001b[0;32mnot\u001b[0m \u001b[0;32mNone\u001b[0m \u001b[0;32melse\u001b[0m \u001b[0mkwargs\u001b[0m\u001b[0;34m\u001b[0m\u001b[0;34m\u001b[0m\u001b[0m\n\u001b[1;32m    361\u001b[0m \u001b[0;34m\u001b[0m\u001b[0m\n\u001b[0;32m--> 362\u001b[0;31m         \u001b[0mextra_columns\u001b[0m \u001b[0;34m=\u001b[0m \u001b[0mset\u001b[0m\u001b[0;34m(\u001b[0m\u001b[0mlist\u001b[0m\u001b[0;34m(\u001b[0m\u001b[0mdata\u001b[0m\u001b[0;34m.\u001b[0m\u001b[0mkeys\u001b[0m\u001b[0;34m(\u001b[0m\u001b[0;34m)\u001b[0m\u001b[0;34m)\u001b[0m\u001b[0;34m)\u001b[0m \u001b[0;34m-\u001b[0m \u001b[0mset\u001b[0m\u001b[0;34m(\u001b[0m\u001b[0mlist\u001b[0m\u001b[0;34m(\u001b[0m\u001b[0mself\u001b[0m\u001b[0;34m.\u001b[0m\u001b[0m__colids\u001b[0m\u001b[0;34m.\u001b[0m\u001b[0mkeys\u001b[0m\u001b[0;34m(\u001b[0m\u001b[0;34m)\u001b[0m\u001b[0;34m)\u001b[0m\u001b[0;34m)\u001b[0m\u001b[0;34m\u001b[0m\u001b[0;34m\u001b[0m\u001b[0m\n\u001b[0m\u001b[1;32m    363\u001b[0m         \u001b[0mmissing_columns\u001b[0m \u001b[0;34m=\u001b[0m \u001b[0mset\u001b[0m\u001b[0;34m(\u001b[0m\u001b[0mlist\u001b[0m\u001b[0;34m(\u001b[0m\u001b[0mself\u001b[0m\u001b[0;34m.\u001b[0m\u001b[0m__colids\u001b[0m\u001b[0;34m.\u001b[0m\u001b[0mkeys\u001b[0m\u001b[0;34m(\u001b[0m\u001b[0;34m)\u001b[0m\u001b[0;34m)\u001b[0m\u001b[0;34m)\u001b[0m \u001b[0;34m-\u001b[0m \u001b[0mset\u001b[0m\u001b[0;34m(\u001b[0m\u001b[0mlist\u001b[0m\u001b[0;34m(\u001b[0m\u001b[0mdata\u001b[0m\u001b[0;34m.\u001b[0m\u001b[0mkeys\u001b[0m\u001b[0;34m(\u001b[0m\u001b[0;34m)\u001b[0m\u001b[0;34m)\u001b[0m\u001b[0;34m)\u001b[0m\u001b[0;34m\u001b[0m\u001b[0;34m\u001b[0m\u001b[0m\n\u001b[1;32m    364\u001b[0m \u001b[0;34m\u001b[0m\u001b[0m\n",
      "\u001b[0;31mAttributeError\u001b[0m: 'dict' object has no attribute '_DynamicTable__colids'"
     ]
    }
   ],
   "source": [
    "mydata = {'function_name':'sq'}\n",
    "StimulusFunctionTable.add_row(mydata)\n",
    "\n",
    "# add_row(data=None, id=None, enforce_unique_id=False)"
   ]
  },
  {
   "cell_type": "code",
   "execution_count": null,
   "metadata": {},
   "outputs": [],
   "source": [
    "\n"
   ]
  }
 ],
 "metadata": {
  "kernelspec": {
   "display_name": "Python 3",
   "language": "python",
   "name": "python3"
  },
  "language_info": {
   "codemirror_mode": {
    "name": "ipython",
    "version": 3
   },
   "file_extension": ".py",
   "mimetype": "text/x-python",
   "name": "python",
   "nbconvert_exporter": "python",
   "pygments_lexer": "ipython3",
   "version": "3.7.4"
  }
 },
 "nbformat": 4,
 "nbformat_minor": 2
}
