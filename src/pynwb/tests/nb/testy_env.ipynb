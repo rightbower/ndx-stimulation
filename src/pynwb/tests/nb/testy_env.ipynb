{
 "cells": [
  {
   "cell_type": "code",
   "execution_count": null,
   "id": "f0d39327",
   "metadata": {},
   "outputs": [],
   "source": [
    "from pynwb import NWBHDF5IO, NWBFile\n",
    "from pynwb.core import DynamicTableRegion, DynamicTable\n",
    "from pynwb.device import Device"
   ]
  },
  {
   "cell_type": "code",
   "execution_count": 1,
   "id": "f79f663f",
   "metadata": {},
   "outputs": [],
   "source": [
    "import ndx_icephys_meta"
   ]
  },
  {
   "cell_type": "code",
   "execution_count": 2,
   "id": "73457254",
   "metadata": {},
   "outputs": [],
   "source": [
    "from ndx_genotype import GenotypeNWBFile, GenotypeSubject, GenotypesTable, AllelesTable\n"
   ]
  },
  {
   "cell_type": "code",
   "execution_count": null,
   "id": "8d0b6f89",
   "metadata": {},
   "outputs": [],
   "source": []
  }
 ],
 "metadata": {
  "kernelspec": {
   "display_name": "pynwb_prerel_hierarch",
   "language": "python",
   "name": "pynwb_prerel_hierarch"
  },
  "language_info": {
   "codemirror_mode": {
    "name": "ipython",
    "version": 3
   },
   "file_extension": ".py",
   "mimetype": "text/x-python",
   "name": "python",
   "nbconvert_exporter": "python",
   "pygments_lexer": "ipython3",
   "version": "3.8.5"
  }
 },
 "nbformat": 4,
 "nbformat_minor": 5
}
