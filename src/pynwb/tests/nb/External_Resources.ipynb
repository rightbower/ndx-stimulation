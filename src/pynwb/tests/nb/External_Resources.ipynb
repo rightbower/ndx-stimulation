{
 "cells": [
  {
   "cell_type": "code",
   "execution_count": 1,
   "metadata": {},
   "outputs": [],
   "source": [
    "%matplotlib inline"
   ]
  },
  {
   "cell_type": "markdown",
   "metadata": {},
   "source": [
    "\n",
    "# ExternalResources\n",
    "\n",
    "This is a user guide to interacting with the ``ExternalResources`` class.\n",
    "The ExternalResources type is experimental and is subject to change in future releases.\n",
    "If you use this type, please provide feedback to the HDMF team so that we can\n",
    "improve the structure and access of data stored with this type for your use cases.\n"
   ]
  },
  {
   "cell_type": "markdown",
   "metadata": {},
   "source": [
    "## Introduction\n",
    "The :py:class:`~hdmf.common.resources.ExternalResources` class provides a way\n",
    "to organize and map user terms (keys) to multiple resources and entities\n",
    "from the resources. A typical use case for external resources is to link data\n",
    "stored in datasets or attributes to ontologies. For example, you may have a\n",
    "dataset `country` storing locations. Using\n",
    ":py:class:`~hdmf.common.resources.ExternalResources` allows us to link the\n",
    "country names stored in the dataset to an ontology of all countries, enabling\n",
    "more rigid standardization of the data and facilitating data query and\n",
    "introspection.\n",
    "\n",
    "From a user's perspective, one can think of the ``ExternalResources`` as a\n",
    "simple table, in which each row associates a particular ``key`` stored in a\n",
    "particular ``object`` (i.e., Attribute or Dataset in a file) with a particular\n",
    "``entity`` (e.g., a term)  of an online ``resource`` (e.g., an ontology).\n",
    "That is, ``(object, key)`` refer to parts inside a file and ``(resource, entity)``\n",
    "refer to an external resource outside of the file, and ``ExternalResources``\n",
    "allows us to link the two. To reduce data redundancy and improve data integrity,\n",
    "``ExternalResources`` stores this data internally in a collection of\n",
    "interlinked tables.\n",
    "\n",
    "* :py:class:`~hdmf.common.resources.KeyTable` where each row describes a\n",
    "  :py:class:`~hdmf.common.resources.Key`\n",
    "* :py:class:`~hdmf.common.resources.ResourceTable` where each row describes a\n",
    "  :py:class:`~hdmf.common.resources.Resource`\n",
    "* :py:class:`~hdmf.common.resources.EntityTable`  where each row describes an\n",
    "  :py:class:`~hdmf.common.resources.Entity`\n",
    "* :py:class:`~hdmf.common.resources.ObjectTable` where each row descibes an\n",
    "  :py:class:`~hdmf.common.resources.Object`\n",
    "* :py:class:`~hdmf.common.resources.ObjectKeyTable` where each row describes an\n",
    "  :py:class:`~hdmf.common.resources.ObjectKey` pair identifying which keys\n",
    "  are used by which objects.\n",
    "\n",
    "The :py:class:`~hdmf.common.resources.ExternalResources` class then provides\n",
    "convenience functions to simplify interaction with these tables, allowing users\n",
    "to treat ``ExternalResources`` as a single large table as much as possible.\n",
    "\n"
   ]
  },
  {
   "cell_type": "markdown",
   "metadata": {},
   "source": [
    "Creating an instance of the ExternalResources class\n",
    "\n"
   ]
  },
  {
   "cell_type": "code",
   "execution_count": 2,
   "metadata": {},
   "outputs": [
    {
     "name": "stderr",
     "output_type": "stream",
     "text": [
      "/opt/anaconda3/envs/pynwb_prerel/lib/python3.8/site-packages/hdmf/container.py:181: UserWarning: ExternalResources is experimental -- it may be removed in the future and is not guaranteed to maintain backward compatibility\n",
      "  warn(_exp_warn_msg(cls))\n"
     ]
    }
   ],
   "source": [
    "from hdmf.common import ExternalResources\n",
    "from hdmf.common import DynamicTable\n",
    "from hdmf import Data\n",
    "\n",
    "er = ExternalResources(name='example')"
   ]
  },
  {
   "cell_type": "markdown",
   "metadata": {},
   "source": [
    "## Using the add_ref method\n",
    ":py:func:`~hdmf.common.resources.ExternalResources.add_ref`\n",
    "is a wrapper function provided by the ``ExternalResources`` class, that\n",
    "simplifies adding data. Using ``add_ref`` allows us to treat new entries similar\n",
    "to adding a new row to a flat table, with ``add_ref`` taking care of populating\n",
    "the underlying data structures accordingly.\n",
    "\n"
   ]
  },
  {
   "cell_type": "code",
   "execution_count": 3,
   "metadata": {},
   "outputs": [
    {
     "data": {
      "text/plain": [
       "(<hdmf.common.resources.Key at 0x113390910>,\n",
       " <hdmf.common.resources.Resource at 0x113390a60>,\n",
       " <hdmf.common.resources.Entity at 0x113390940>)"
      ]
     },
     "execution_count": 3,
     "metadata": {},
     "output_type": "execute_result"
    }
   ],
   "source": [
    "data = Data(name=\"species\", data=['Homo sapiens', 'Mus musculus'])\n",
    "er.add_ref(container=data, field='', key='Homo sapiens', resource_name='NCBI_Taxonomy',\n",
    "           resource_uri='https://www.ncbi.nlm.nih.gov/taxonomy', entity_id='NCBI:txid9606',\n",
    "           entity_uri='https://www.ncbi.nlm.nih.gov/Taxonomy/Browser/wwwtax.cgi?id=9606')\n",
    "\n",
    "er.add_ref(container=data, field='', key='Mus musculus', resource_name='NCBI_Taxonomy',\n",
    "           resource_uri='https://www.ncbi.nlm.nih.gov/taxonomy', entity_id='NCBI:txid10090',\n",
    "           entity_uri='https://www.ncbi.nlm.nih.gov/Taxonomy/Browser/wwwtax.cgi?id=10090')"
   ]
  },
  {
   "cell_type": "markdown",
   "metadata": {},
   "source": [
    "## Using the add_ref method with get_resource\n",
    "When adding references to resources, you may want to refer to multiple entities\n",
    "within the same resource. Resource names are unique, so if you call ``add_ref``\n",
    "with the name of an existing resource, then that resource will be reused. You\n",
    "can also use the :py:func:`~hdmf.common.resources.ExternalResources.get_resource`\n",
    "method to get the ``Resource`` object and pass that in to ``add_ref`` to\n",
    "reuse an existing resource.\n",
    "\n"
   ]
  },
  {
   "cell_type": "code",
   "execution_count": 4,
   "metadata": {},
   "outputs": [
    {
     "data": {
      "text/plain": [
       "(<hdmf.common.resources.Key at 0x11343d160>,\n",
       " <hdmf.common.resources.Resource at 0x113390d60>,\n",
       " <hdmf.common.resources.Entity at 0x11343d100>)"
      ]
     },
     "execution_count": 4,
     "metadata": {},
     "output_type": "execute_result"
    }
   ],
   "source": [
    "# Let's create a new instance of ExternalResources.\n",
    "er = ExternalResources(name='example')\n",
    "\n",
    "data = Data(name=\"species\", data=['Homo sapiens', 'Mus musculus'])\n",
    "er.add_ref(container=data, field='', key='Homo sapiens', resource_name='NCBI_Taxonomy',\n",
    "           resource_uri='https://www.ncbi.nlm.nih.gov/taxonomy', entity_id='NCBI:txid9606',\n",
    "           entity_uri='https://www.ncbi.nlm.nih.gov/Taxonomy/Browser/wwwtax.cgi?id=9606')\n",
    "\n",
    "# Using get_resource\n",
    "existing_resource = er.get_resource('NCBI_Taxonomy')\n",
    "er.add_ref(container=data, field='', key='Mus musculus', resources_idx=existing_resource,\n",
    "           entity_id='NCBI:txid10090',\n",
    "           entity_uri='https://www.ncbi.nlm.nih.gov/Taxonomy/Browser/wwwtax.cgi?id=10090')"
   ]
  },
  {
   "cell_type": "markdown",
   "metadata": {},
   "source": [
    "## Using the add_ref method with a field\n",
    "In the above example, the ``field`` keyword argument was empty because the data\n",
    "of the :py:class:`~hdmf.container.Data` object passed in for the ``container``\n",
    "argument was being associated with a resource. However, you may want to associate\n",
    "an attribute of a :py:class:`~hdmf.container.Data` object with a resource or\n",
    "a dataset or attribute of a :py:class:`~hdmf.container.Container` object with\n",
    "a resource. To disambiguate between these different fields, you can set the\n",
    "'field' keyword.\n",
    "\n"
   ]
  },
  {
   "cell_type": "code",
   "execution_count": 5,
   "metadata": {},
   "outputs": [
    {
     "data": {
      "text/plain": [
       "(<hdmf.common.resources.Key at 0x11343d460>,\n",
       " <hdmf.common.resources.Resource at 0x11343d370>,\n",
       " <hdmf.common.resources.Entity at 0x11343d3d0>)"
      ]
     },
     "execution_count": 5,
     "metadata": {},
     "output_type": "execute_result"
    }
   ],
   "source": [
    "genotypes = DynamicTable(name='genotypes', description='My genotypes')\n",
    "genotypes.add_column(name='genotype_name', description=\"Name of genotypes\")\n",
    "genotypes.add_row(id=0, genotype_name='Rorb')\n",
    "er.add_ref(container=genotypes, field='genotype_name', key='Rorb', resource_name='MGI Ontology',\n",
    "           resource_uri='http://www.informatics.jax.org/', entity_id='MGI:1346434',\n",
    "           entity_uri=\"http://www.informatics.jax.org/probe/key/804614\")"
   ]
  },
  {
   "cell_type": "markdown",
   "metadata": {},
   "source": [
    "## Using the get_keys method\n",
    "This method returns a DataFrame of key_name, resource_table_idx, entity_id,\n",
    "and entity_uri. You can either have a single key object,\n",
    "a list of key objects, or leave the input paramters empty to return all.\n",
    "\n"
   ]
  },
  {
   "cell_type": "code",
   "execution_count": 6,
   "metadata": {},
   "outputs": [
    {
     "data": {
      "text/html": [
       "<div>\n",
       "<style scoped>\n",
       "    .dataframe tbody tr th:only-of-type {\n",
       "        vertical-align: middle;\n",
       "    }\n",
       "\n",
       "    .dataframe tbody tr th {\n",
       "        vertical-align: top;\n",
       "    }\n",
       "\n",
       "    .dataframe thead th {\n",
       "        text-align: right;\n",
       "    }\n",
       "</style>\n",
       "<table border=\"1\" class=\"dataframe\">\n",
       "  <thead>\n",
       "    <tr style=\"text-align: right;\">\n",
       "      <th></th>\n",
       "      <th>key_name</th>\n",
       "      <th>resources_idx</th>\n",
       "      <th>entity_id</th>\n",
       "      <th>entity_uri</th>\n",
       "    </tr>\n",
       "  </thead>\n",
       "  <tbody>\n",
       "    <tr>\n",
       "      <th>0</th>\n",
       "      <td>Homo sapiens</td>\n",
       "      <td>0</td>\n",
       "      <td>NCBI:txid9606</td>\n",
       "      <td>https://www.ncbi.nlm.nih.gov/Taxonomy/Browser/...</td>\n",
       "    </tr>\n",
       "    <tr>\n",
       "      <th>1</th>\n",
       "      <td>Mus musculus</td>\n",
       "      <td>0</td>\n",
       "      <td>NCBI:txid10090</td>\n",
       "      <td>https://www.ncbi.nlm.nih.gov/Taxonomy/Browser/...</td>\n",
       "    </tr>\n",
       "  </tbody>\n",
       "</table>\n",
       "</div>"
      ],
      "text/plain": [
       "       key_name  resources_idx       entity_id  \\\n",
       "0  Homo sapiens              0   NCBI:txid9606   \n",
       "1  Mus musculus              0  NCBI:txid10090   \n",
       "\n",
       "                                          entity_uri  \n",
       "0  https://www.ncbi.nlm.nih.gov/Taxonomy/Browser/...  \n",
       "1  https://www.ncbi.nlm.nih.gov/Taxonomy/Browser/...  "
      ]
     },
     "execution_count": 6,
     "metadata": {},
     "output_type": "execute_result"
    }
   ],
   "source": [
    "# All Keys\n",
    "er.get_keys()\n",
    "\n",
    "# Single Key\n",
    "er.get_keys(keys=er.get_key('Homo sapiens'))\n",
    "\n",
    "# List of Specific Keys\n",
    "er.get_keys(keys=[er.get_key('Homo sapiens'), er.get_key('Mus musculus')])"
   ]
  },
  {
   "cell_type": "markdown",
   "metadata": {},
   "source": [
    "## Using the get_key method\n",
    "This method will return a ``Key`` object. In the current version of ``ExternalResources``,\n",
    "duplicate keys are allowed; however, each key needs a unique linking Object.\n",
    "In other words, each combination of (container, field, key) can exist only once in\n",
    "``ExternalResources``.\n",
    "\n"
   ]
  },
  {
   "cell_type": "code",
   "execution_count": 7,
   "metadata": {},
   "outputs": [],
   "source": [
    "# The get_key method will return the key object of the unique (key, container, field).\n",
    "key_object = er.get_key(key_name='Rorb', container=genotypes, field='genotype_name')"
   ]
  },
  {
   "cell_type": "markdown",
   "metadata": {},
   "source": [
    "## Using the add_ref method with a key_object\n",
    "Sometimes you want to reference a specific key that already exists when adding\n",
    "new ontology data into ``ExternalResources``.\n",
    "\n"
   ]
  },
  {
   "cell_type": "code",
   "execution_count": 8,
   "metadata": {},
   "outputs": [
    {
     "data": {
      "text/html": [
       "<div>\n",
       "<style scoped>\n",
       "    .dataframe tbody tr th:only-of-type {\n",
       "        vertical-align: middle;\n",
       "    }\n",
       "\n",
       "    .dataframe tbody tr th {\n",
       "        vertical-align: top;\n",
       "    }\n",
       "\n",
       "    .dataframe thead th {\n",
       "        text-align: right;\n",
       "    }\n",
       "</style>\n",
       "<table border=\"1\" class=\"dataframe\">\n",
       "  <thead>\n",
       "    <tr style=\"text-align: right;\">\n",
       "      <th></th>\n",
       "      <th>key_name</th>\n",
       "      <th>resources_idx</th>\n",
       "      <th>entity_id</th>\n",
       "      <th>entity_uri</th>\n",
       "    </tr>\n",
       "  </thead>\n",
       "  <tbody>\n",
       "    <tr>\n",
       "      <th>0</th>\n",
       "      <td>Homo sapiens</td>\n",
       "      <td>0</td>\n",
       "      <td>NCBI:txid9606</td>\n",
       "      <td>https://www.ncbi.nlm.nih.gov/Taxonomy/Browser/...</td>\n",
       "    </tr>\n",
       "    <tr>\n",
       "      <th>1</th>\n",
       "      <td>Mus musculus</td>\n",
       "      <td>0</td>\n",
       "      <td>NCBI:txid10090</td>\n",
       "      <td>https://www.ncbi.nlm.nih.gov/Taxonomy/Browser/...</td>\n",
       "    </tr>\n",
       "    <tr>\n",
       "      <th>2</th>\n",
       "      <td>Rorb</td>\n",
       "      <td>1</td>\n",
       "      <td>MGI:1346434</td>\n",
       "      <td>http://www.informatics.jax.org/probe/key/804614</td>\n",
       "    </tr>\n",
       "    <tr>\n",
       "      <th>3</th>\n",
       "      <td>Rorb</td>\n",
       "      <td>2</td>\n",
       "      <td>ENSG00000198963</td>\n",
       "      <td>https://uswest.ensembl.org/Homo_sapiens/Gene/S...</td>\n",
       "    </tr>\n",
       "  </tbody>\n",
       "</table>\n",
       "</div>"
      ],
      "text/plain": [
       "       key_name  resources_idx        entity_id  \\\n",
       "0  Homo sapiens              0    NCBI:txid9606   \n",
       "1  Mus musculus              0   NCBI:txid10090   \n",
       "2          Rorb              1      MGI:1346434   \n",
       "3          Rorb              2  ENSG00000198963   \n",
       "\n",
       "                                          entity_uri  \n",
       "0  https://www.ncbi.nlm.nih.gov/Taxonomy/Browser/...  \n",
       "1  https://www.ncbi.nlm.nih.gov/Taxonomy/Browser/...  \n",
       "2    http://www.informatics.jax.org/probe/key/804614  \n",
       "3  https://uswest.ensembl.org/Homo_sapiens/Gene/S...  "
      ]
     },
     "execution_count": 8,
     "metadata": {},
     "output_type": "execute_result"
    }
   ],
   "source": [
    "er.add_ref(container=genotypes, field='genotype_name', key=key_object, resource_name='Ensembl',\n",
    "           resource_uri='https://uswest.ensembl.org/index.html', entity_id='ENSG00000198963',\n",
    "           entity_uri='https://uswest.ensembl.org/Homo_sapiens/Gene/Summary?db=core;g=ENSG00000198963')\n",
    "\n",
    "# Let's use get_keys to visualize\n",
    "er.get_keys()"
   ]
  },
  {
   "cell_type": "code",
   "execution_count": null,
   "metadata": {},
   "outputs": [],
   "source": []
  }
 ],
 "metadata": {
  "kernelspec": {
   "display_name": "pynwb_prerel",
   "language": "python",
   "name": "pynwb_prerel"
  },
  "language_info": {
   "codemirror_mode": {
    "name": "ipython",
    "version": 3
   },
   "file_extension": ".py",
   "mimetype": "text/x-python",
   "name": "python",
   "nbconvert_exporter": "python",
   "pygments_lexer": "ipython3",
   "version": "3.8.5"
  }
 },
 "nbformat": 4,
 "nbformat_minor": 1
}
