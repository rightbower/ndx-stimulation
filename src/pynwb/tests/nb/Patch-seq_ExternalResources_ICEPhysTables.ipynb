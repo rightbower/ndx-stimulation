{
 "cells": [
  {
   "cell_type": "markdown",
   "metadata": {},
   "source": [
    "## External Resources in NWB with Patch-seq data\n",
    "\n",
    "To prototype the inclusion of ontologized metadata in NWB, we have built this tutorial showing how to create files  including the new extensions and features:\n",
    "\n",
    "- ndx-stimulation for stimulus waveform metadata\n",
    "- ndx-genotype for strain, gene, and allele metadata\n",
    "- ExternalResources for storing links to external databases and ontologies\n"
   ]
  },
  {
   "cell_type": "code",
   "execution_count": 1,
   "metadata": {},
   "outputs": [
    {
     "data": {
      "text/plain": [
       "{'ndx-genotype': {'core': ('AbstractFeatureSeries',\n",
       "   'AlignedDynamicTable',\n",
       "   'AnnotationSeries',\n",
       "   'BehavioralEpochs',\n",
       "   'BehavioralEvents',\n",
       "   'BehavioralTimeSeries',\n",
       "   'CSRMatrix',\n",
       "   'ClusterWaveforms',\n",
       "   'Clustering',\n",
       "   'CompassDirection',\n",
       "   'Container',\n",
       "   'CorrectedImageStack',\n",
       "   'CurrentClampSeries',\n",
       "   'CurrentClampStimulusSeries',\n",
       "   'Data',\n",
       "   'DecompositionSeries',\n",
       "   'Device',\n",
       "   'DfOverF',\n",
       "   'DynamicTable',\n",
       "   'DynamicTableRegion',\n",
       "   'ElectricalSeries',\n",
       "   'ElectrodeGroup',\n",
       "   'ElementIdentifiers',\n",
       "   'EventDetection',\n",
       "   'EventWaveform',\n",
       "   'ExperimentalConditionsTable',\n",
       "   'EyeTracking',\n",
       "   'FeatureExtraction',\n",
       "   'FilteredEphys',\n",
       "   'Fluorescence',\n",
       "   'GrayscaleImage',\n",
       "   'IZeroClampSeries',\n",
       "   'Image',\n",
       "   'ImageMaskSeries',\n",
       "   'ImageSegmentation',\n",
       "   'ImageSeries',\n",
       "   'Images',\n",
       "   'ImagingPlane',\n",
       "   'ImagingRetinotopy',\n",
       "   'IndexSeries',\n",
       "   'IntervalSeries',\n",
       "   'IntracellularElectrode',\n",
       "   'IntracellularElectrodesTable',\n",
       "   'IntracellularRecordingsTable',\n",
       "   'IntracellularResponsesTable',\n",
       "   'IntracellularStimuliTable',\n",
       "   'LFP',\n",
       "   'LabMetaData',\n",
       "   'MotionCorrection',\n",
       "   'NWBContainer',\n",
       "   'NWBData',\n",
       "   'NWBDataInterface',\n",
       "   'NWBFile',\n",
       "   'OpticalChannel',\n",
       "   'OpticalSeries',\n",
       "   'OptogeneticSeries',\n",
       "   'OptogeneticStimulusSite',\n",
       "   'PatchClampSeries',\n",
       "   'PlaneSegmentation',\n",
       "   'Position',\n",
       "   'ProcessingModule',\n",
       "   'PupilTracking',\n",
       "   'RGBAImage',\n",
       "   'RGBImage',\n",
       "   'RepetitionsTable',\n",
       "   'RoiResponseSeries',\n",
       "   'ScratchData',\n",
       "   'SequentialRecordingsTable',\n",
       "   'SimpleMultiContainer',\n",
       "   'SimultaneousRecordingsTable',\n",
       "   'SpatialSeries',\n",
       "   'SpikeEventSeries',\n",
       "   'Subject',\n",
       "   'SweepTable',\n",
       "   'TimeIntervals',\n",
       "   'TimeSeries',\n",
       "   'TimeSeriesReferenceVectorData',\n",
       "   'TwoPhotonSeries',\n",
       "   'Units',\n",
       "   'VectorData',\n",
       "   'VectorIndex',\n",
       "   'VoltageClampSeries',\n",
       "   'VoltageClampStimulusSeries'),\n",
       "  'hdmf-experimental': ('Container', 'Data', 'ExternalResources')}}"
      ]
     },
     "execution_count": 1,
     "metadata": {},
     "output_type": "execute_result"
    }
   ],
   "source": [
    "from datetime import datetime\n",
    "from dateutil.tz import tzlocal\n",
    "import inspect\n",
    "import numpy as np\n",
    "import pandas as pd\n",
    "import os\n",
    "\n",
    "from pynwb import NWBHDF5IO, NWBFile\n",
    "from pynwb.core import DynamicTableRegion, DynamicTable\n",
    "from pynwb.device import Device\n",
    "\n",
    "from pynwb import register_class, load_namespaces\n",
    "from hdmf.utils import docval, call_docval_func, getargs, get_docval\n",
    "\n",
    "\n",
    "# namespace for the SFT extension\n",
    "ndx_stimulation_specpath = '/Users/pam.baker/Documents/ndx_stim/ndx-stimulation/spec/ndx-stimulation.namespace.yaml'\n",
    "\n",
    "# namespace for the genotype extension\n",
    "ndx_genotype_specpath = '/Users/pam.baker/Documents/ndx_stim/ndx-genotype/spec/ndx-genotype.namespace.yaml'\n",
    "\n",
    "# Load the namespace                                                                                                 \n",
    "load_namespaces(ndx_stimulation_specpath)\n",
    "load_namespaces(ndx_genotype_specpath)"
   ]
  },
  {
   "cell_type": "code",
   "execution_count": 2,
   "metadata": {},
   "outputs": [
    {
     "data": {
      "text/html": [
       "<style type=\"text/css\">\n",
       "table.dataframe td, table.dataframe th {\n",
       "    border: 1px  black solid !important;\n",
       "  color: black !important;\n",
       "}\n",
       "</style>\n"
      ],
      "text/plain": [
       "<IPython.core.display.HTML object>"
      ]
     },
     "metadata": {},
     "output_type": "display_data"
    }
   ],
   "source": [
    "%%HTML\n",
    "<style type=\"text/css\">\n",
    "table.dataframe td, table.dataframe th {\n",
    "    border: 1px  black solid !important;\n",
    "  color: black !important;\n",
    "}\n",
    "</style>"
   ]
  },
  {
   "cell_type": "code",
   "execution_count": 3,
   "metadata": {},
   "outputs": [],
   "source": [
    "from pynwb.icephys import VoltageClampStimulusSeries, VoltageClampSeries\n",
    "from pynwb import NWBHDF5IO\n",
    "from pynwb.core import DynamicTable, VectorData\n",
    "\n",
    "#import sys\n",
    "#sys.path.append(\"/Users/pam.baker/Documents/ndx_stim/ndx-stimulation/src/pynwb/tests/ndx_icephys_meta/src/pynwb/\")"
   ]
  },
  {
   "cell_type": "code",
   "execution_count": null,
   "metadata": {},
   "outputs": [],
   "source": [
    "#from ndx_icephys_meta.icephys import ICEphysFile\n",
    "\n",
    "#Create the file\n",
    "nwbfile = NWBFile(\n",
    "            session_description='my first synthetic recording',\n",
    "            identifier='EXAMPLE_ID',\n",
    "            session_start_time=datetime.now(tzlocal()),\n",
    "            experimenter='Dr. Bilbo Baggins',\n",
    "            lab='Bag End Laboratory',\n",
    "            institution='University of Middle Earth at the Shire',\n",
    "            experiment_description='I went on an adventure with thirteen dwarves to reclaim vast treasures.',\n",
    "            session_id='LONELYMTN')"
   ]
  },
  {
   "cell_type": "code",
   "execution_count": 8,
   "metadata": {},
   "outputs": [],
   "source": [
    "# Add a device\n",
    "device = nwbfile.create_device(name='Heka ITC-1600')\n",
    "# Add an intracellular electrode\n",
    "electrode = nwbfile.create_icephys_electrode(name=\"elec0\",\n",
    "                                        description='a mock intracellular electrode',\n",
    "                                        device=device)\n",
    "# Create an ic-ephys stimulus\n",
    "stimulus = VoltageClampStimulusSeries(\n",
    "            name=\"ccss\",\n",
    "            data=[1, 2, 3, 4, 5],\n",
    "            starting_time=123.6,\n",
    "            rate=10e3,\n",
    "            electrode=electrode,\n",
    "            gain=0.02,\n",
    "            sweep_number=np.uint64(15))\n",
    "# Create and ic-response\n",
    "response = VoltageClampSeries(\n",
    "            name='vcs',\n",
    "            data=[0.1, 0.2, 0.3, 0.4, 0.5],\n",
    "            conversion=1e-12,\n",
    "            resolution=np.nan,\n",
    "            starting_time=123.6,\n",
    "            rate=20e3,\n",
    "            electrode=electrode,\n",
    "            gain=0.02,\n",
    "            capacitance_slow=100e-12,\n",
    "            resistance_comp_correction=70.0,\n",
    "            sweep_number=np.uint64(15))"
   ]
  },
  {
   "cell_type": "code",
   "execution_count": 9,
   "metadata": {},
   "outputs": [],
   "source": [
    "# Add ICEPhys recording - replaces add_acquisition, add_stimulus\n",
    "rowindex = nwbfile.add_intracellular_recording(electrode=electrode,\n",
    "                                               stimulus=stimulus,\n",
    "                                               response=response,\n",
    "                                               id=10)"
   ]
  },
  {
   "cell_type": "code",
   "execution_count": 10,
   "metadata": {},
   "outputs": [],
   "source": [
    "rowindex2 = nwbfile.add_intracellular_recording(electrode=electrode,\n",
    "                                                stimulus=stimulus,\n",
    "                                                id=12)"
   ]
  },
  {
   "cell_type": "markdown",
   "metadata": {},
   "source": [
    "### Displaying the tables"
   ]
  },
  {
   "cell_type": "code",
   "execution_count": 13,
   "metadata": {},
   "outputs": [
    {
     "data": {
      "text/html": [
       "<div>\n",
       "<style scoped>\n",
       "    .dataframe tbody tr th:only-of-type {\n",
       "        vertical-align: middle;\n",
       "    }\n",
       "\n",
       "    .dataframe tbody tr th {\n",
       "        vertical-align: top;\n",
       "    }\n",
       "\n",
       "    .dataframe thead tr th {\n",
       "        text-align: left;\n",
       "    }\n",
       "\n",
       "    .dataframe thead tr:last-of-type th {\n",
       "        text-align: right;\n",
       "    }\n",
       "</style>\n",
       "<table border=\"1\" class=\"dataframe\">\n",
       "  <thead>\n",
       "    <tr>\n",
       "      <th></th>\n",
       "      <th colspan=\"2\" halign=\"left\">electrodes</th>\n",
       "      <th colspan=\"2\" halign=\"left\">stimuli</th>\n",
       "      <th colspan=\"2\" halign=\"left\">responses</th>\n",
       "    </tr>\n",
       "    <tr>\n",
       "      <th></th>\n",
       "      <th>id</th>\n",
       "      <th>electrode</th>\n",
       "      <th>id</th>\n",
       "      <th>stimulus</th>\n",
       "      <th>id</th>\n",
       "      <th>response</th>\n",
       "    </tr>\n",
       "    <tr>\n",
       "      <th>(intracellular_recordings, id)</th>\n",
       "      <th></th>\n",
       "      <th></th>\n",
       "      <th></th>\n",
       "      <th></th>\n",
       "      <th></th>\n",
       "      <th></th>\n",
       "    </tr>\n",
       "  </thead>\n",
       "  <tbody>\n",
       "    <tr>\n",
       "      <th>10</th>\n",
       "      <td>0</td>\n",
       "      <td>elec0 pynwb.icephys.IntracellularElectrode at ...</td>\n",
       "      <td>0</td>\n",
       "      <td>(0, 5, ccss pynwb.icephys.VoltageClampStimulus...</td>\n",
       "      <td>0</td>\n",
       "      <td>(0, 5, vcs pynwb.icephys.VoltageClampSeries at...</td>\n",
       "    </tr>\n",
       "    <tr>\n",
       "      <th>12</th>\n",
       "      <td>1</td>\n",
       "      <td>elec0 pynwb.icephys.IntracellularElectrode at ...</td>\n",
       "      <td>1</td>\n",
       "      <td>(0, 5, ccss pynwb.icephys.VoltageClampStimulus...</td>\n",
       "      <td>1</td>\n",
       "      <td>(-1, -1, ccss pynwb.icephys.VoltageClampStimul...</td>\n",
       "    </tr>\n",
       "  </tbody>\n",
       "</table>\n",
       "</div>"
      ],
      "text/plain": [
       "                               electrodes  \\\n",
       "                                       id   \n",
       "(intracellular_recordings, id)              \n",
       "10                                      0   \n",
       "12                                      1   \n",
       "\n",
       "                                                                                   \\\n",
       "                                                                        electrode   \n",
       "(intracellular_recordings, id)                                                      \n",
       "10                              elec0 pynwb.icephys.IntracellularElectrode at ...   \n",
       "12                              elec0 pynwb.icephys.IntracellularElectrode at ...   \n",
       "\n",
       "                               stimuli  \\\n",
       "                                    id   \n",
       "(intracellular_recordings, id)           \n",
       "10                                   0   \n",
       "12                                   1   \n",
       "\n",
       "                                                                                   \\\n",
       "                                                                         stimulus   \n",
       "(intracellular_recordings, id)                                                      \n",
       "10                              (0, 5, ccss pynwb.icephys.VoltageClampStimulus...   \n",
       "12                              (0, 5, ccss pynwb.icephys.VoltageClampStimulus...   \n",
       "\n",
       "                               responses  \\\n",
       "                                      id   \n",
       "(intracellular_recordings, id)             \n",
       "10                                     0   \n",
       "12                                     1   \n",
       "\n",
       "                                                                                   \n",
       "                                                                         response  \n",
       "(intracellular_recordings, id)                                                     \n",
       "10                              (0, 5, vcs pynwb.icephys.VoltageClampSeries at...  \n",
       "12                              (-1, -1, ccss pynwb.icephys.VoltageClampStimul...  "
      ]
     },
     "execution_count": 13,
     "metadata": {},
     "output_type": "execute_result"
    }
   ],
   "source": [
    "nwbfile.intracellular_recordings.to_dataframe()"
   ]
  },
  {
   "cell_type": "code",
   "execution_count": null,
   "metadata": {},
   "outputs": [],
   "source": [
    "from pprint import pprint\n",
    "pprint(dir(nwbfile))"
   ]
  },
  {
   "cell_type": "code",
   "execution_count": 12,
   "metadata": {},
   "outputs": [],
   "source": [
    "rowindex = nwbfile.add_icephys_simultaneous_recording(recordings=[rowindex, rowindex2], \n",
    "                                     id=15)"
   ]
  },
  {
   "cell_type": "markdown",
   "metadata": {},
   "source": [
    "### Stimulus Function Table\n",
    "\n",
    "The stimulus function table is designed to hold the names of stimulus waveforms and their relevant parameters - float parameters for numeric values and function parameters that reference other waveform functions (for parameter values that vary as a function of time)."
   ]
  },
  {
   "cell_type": "code",
   "execution_count": null,
   "metadata": {},
   "outputs": [],
   "source": [
    "@register_class('StimulusFunctionTable', 'ndx-stimulation')\n",
    "class StimulusFunctionTable(DynamicTable):   \n",
    "    \n",
    "    __columns__ = ( \n",
    "                    {'name':'function_name', \n",
    "                     'description': 'The names of the 1D stimulus waveforms.',\n",
    "                     'required': True,\n",
    "                     'index': False},\n",
    "                    {'name':'float_parameters', \n",
    "                     'description': 'The names of the float parameters for the 1D stimulus waveforms.',\n",
    "                     'required': True,\n",
    "                     'index': True},\n",
    "                    {'name':'function_parameters',\n",
    "                     'description': 'The function parameters for the 1D stimulus waveforms.',\n",
    "                     'required': True,\n",
    "                     'index': True}\n",
    "    )\n",
    "    \n",
    "    \n",
    "    @docval(*get_docval(DynamicTable.__init__, 'id', 'columns', 'colnames'))\n",
    "    def __init__(self, **kwargs):\n",
    "        kwargs['name'] = ('StimulusFunctionTable')\n",
    "        kwargs['description'] = ('Table for storing ontologized 1D stimulus waveform metadata')\n",
    "        call_docval_func(super().__init__, kwargs)\n",
    "        "
   ]
  },
  {
   "cell_type": "markdown",
   "metadata": {},
   "source": [
    "We create an example stimulus function table to hold a couple of square waves with associated parameters. We use the add_row function inherited from Dynamic Tables to add new entries."
   ]
  },
  {
   "cell_type": "code",
   "execution_count": null,
   "metadata": {},
   "outputs": [],
   "source": [
    "sft = StimulusFunctionTable()\n",
    "\n",
    "float_params_sq1 = [('amplitude', -0.110, 'V'), \n",
    "                    ('duration', 0.500, 's'),\n",
    "                    ('start_time', 0.1, 's')\n",
    "                   ]\n",
    "\n",
    "float_params_sq2 = [('amplitude', 0.090, 'V'), \n",
    "                    ('duration', 1, 's'),\n",
    "                    ('start_time', 0.1, 's')\n",
    "                   ]\n",
    "\n",
    "float_params_ramp = [('amplitude', 0.200, 'V'), \n",
    "                     ('duration', 1, 's'),\n",
    "                     ('start_time', 0.05, 's')\n",
    "                    ]\n",
    "\n",
    "float_params_sin = [('amplitude', 0.090, 'V'), \n",
    "                    ('duration', 1, 's'),\n",
    "                    ('start_time', 0.1, 's')\n",
    "                   ]\n",
    "\n",
    "func_params_sin = [('frequency', 2, 'Hz')]\n",
    "\n",
    "\n",
    "wave1 = {'function_name':'sq', \n",
    "         'float_parameters': float_params_sq1, \n",
    "         'function_parameters':[]}\n",
    "\n",
    "wave2 = {'function_name':'sq', \n",
    "         'float_parameters': float_params_sq2, \n",
    "         'function_parameters':[]}\n",
    "\n",
    "wave3 = {'function_name':'ramp', \n",
    "         'float_parameters': float_params_ramp, \n",
    "         'function_parameters':[]}\n",
    "\n",
    "wave4 = {'function_name':'sin', \n",
    "         'float_parameters': float_params_sin, \n",
    "         'function_parameters': func_params_sin}\n",
    "\n",
    "\n",
    "# Using add_row from DynamicTable\n",
    "\n",
    "sft.add_row(data = wave1)\n",
    "sft.add_row(data = wave2)\n",
    "sft.add_row(data = wave3)\n",
    "sft.add_row(data = wave4)\n",
    "\n",
    "\n",
    "pd.set_option(\"display.max_colwidth\", 100)\n",
    "\n",
    "display(sft.to_dataframe())"
   ]
  },
  {
   "cell_type": "markdown",
   "metadata": {},
   "source": [
    "## Genotypes and Alleles Table\n",
    "\n",
    "- Genotypes for locus and allele information\n",
    "- Alleles to store allele metadata\n"
   ]
  },
  {
   "cell_type": "code",
   "execution_count": 4,
   "metadata": {},
   "outputs": [
    {
     "name": "stderr",
     "output_type": "stream",
     "text": [
      "/opt/anaconda3/envs/pynwb_recurse/lib/python3.9/site-packages/hdmf/container.py:181: UserWarning: ExternalResources is experimental -- it may be removed in the future and is not guaranteed to maintain backward compatibility\n",
      "  warn(_exp_warn_msg(cls))\n"
     ]
    }
   ],
   "source": [
    "from datetime import timezone\n",
    "\n",
    "from ndx_genotype import GenotypeNWBFile, GenotypeSubject, GenotypesTable, AllelesTable\n",
    "\n",
    "\n",
    "nwbfile = GenotypeNWBFile(\n",
    "            session_description='session_description',\n",
    "            identifier='identifier',\n",
    "            session_start_time=datetime.now(timezone.utc)\n",
    "            )\n",
    "\n",
    "nwbfile.subject = GenotypeSubject(\n",
    "            subject_id='3',\n",
    "            genotype='Vip-IRES-Cre/wt',\n",
    "            )\n"
   ]
  },
  {
   "cell_type": "code",
   "execution_count": 5,
   "metadata": {},
   "outputs": [],
   "source": [
    "gt = GenotypesTable(\n",
    "            process='PCR',\n",
    "            process_url='https://dx.doi.org/10.17504/protocols.io.yjifuke',\n",
    "            assembly='GRCm38.p6',\n",
    "            annotation='NCBI Mus musculus Annotation Release 108',\n",
    "            )"
   ]
  },
  {
   "cell_type": "code",
   "execution_count": 6,
   "metadata": {},
   "outputs": [],
   "source": [
    "nwbfile.subject.genotypes_table = gt \n",
    "\n",
    "gt.add_allele(symbol='Vip-IRES-Cre')\n",
    "gt.add_allele(symbol='wt')\n",
    "\n",
    "\n",
    "gt.add_genotype(locus='Vip',\n",
    "                allele1='Vip-IRES-Cre',\n",
    "                allele2='wt',\n",
    "                locus_resource_name='locus_resource_name',\n",
    "                locus_resource_uri='locus_resource_uri',\n",
    "                locus_entity_id='locus_entity_id',\n",
    "                locus_entity_uri='locus_entity_uri')\n"
   ]
  },
  {
   "cell_type": "code",
   "execution_count": 7,
   "metadata": {},
   "outputs": [
    {
     "data": {
      "text/html": [
       "<div>\n",
       "<style scoped>\n",
       "    .dataframe tbody tr th:only-of-type {\n",
       "        vertical-align: middle;\n",
       "    }\n",
       "\n",
       "    .dataframe tbody tr th {\n",
       "        vertical-align: top;\n",
       "    }\n",
       "\n",
       "    .dataframe thead th {\n",
       "        text-align: right;\n",
       "    }\n",
       "</style>\n",
       "<table border=\"1\" class=\"dataframe\">\n",
       "  <thead>\n",
       "    <tr style=\"text-align: right;\">\n",
       "      <th></th>\n",
       "      <th>locus</th>\n",
       "      <th>allele1</th>\n",
       "      <th>allele2</th>\n",
       "    </tr>\n",
       "    <tr>\n",
       "      <th>id</th>\n",
       "      <th></th>\n",
       "      <th></th>\n",
       "      <th></th>\n",
       "    </tr>\n",
       "  </thead>\n",
       "  <tbody>\n",
       "    <tr>\n",
       "      <th>0</th>\n",
       "      <td>Vip</td>\n",
       "      <td>(s, y, m, b, o, l)</td>\n",
       "      <td>(s, y, m, b, o, l)</td>\n",
       "    </tr>\n",
       "  </tbody>\n",
       "</table>\n",
       "</div>"
      ],
      "text/plain": [
       "   locus             allele1             allele2\n",
       "id                                              \n",
       "0    Vip  (s, y, m, b, o, l)  (s, y, m, b, o, l)"
      ]
     },
     "execution_count": 7,
     "metadata": {},
     "output_type": "execute_result"
    }
   ],
   "source": [
    "gt.to_dataframe()"
   ]
  },
  {
   "cell_type": "code",
   "execution_count": null,
   "metadata": {},
   "outputs": [],
   "source": [
    "gt.alleles_table.to_dataframe()\n"
   ]
  },
  {
   "cell_type": "code",
   "execution_count": null,
   "metadata": {},
   "outputs": [],
   "source": [
    "er = nwbfile.external_resources\n",
    "\n",
    "er.keys.to_dataframe()"
   ]
  },
  {
   "cell_type": "markdown",
   "metadata": {},
   "source": [
    "## External Resources Table\n",
    "\n",
    "- Resources: eg ontology we are referencing\n",
    "- Entities: as defined by an entry in ontology/controlled terms\n",
    "- Keys: reference from object into the ER tables that maps onto entities \n",
    "- Objects: thing we are ontologizing (eg SFT)\n"
   ]
  },
  {
   "cell_type": "code",
   "execution_count": null,
   "metadata": {},
   "outputs": [],
   "source": [
    "from hdmf.common import ExternalResources\n",
    "from hdmf import Container, Data\n",
    "import pandas as pd\n",
    "\n",
    "#er = ExternalResources(name='ExtResTable')\n",
    "er = nwbfile.external_resources"
   ]
  },
  {
   "cell_type": "markdown",
   "metadata": {},
   "source": [
    "The *StimulusFunctionTable* is the container object we will link to in the External Resources"
   ]
  },
  {
   "cell_type": "code",
   "execution_count": null,
   "metadata": {},
   "outputs": [],
   "source": [
    "object_id = sft.object_id\n",
    "print(object_id)"
   ]
  },
  {
   "cell_type": "code",
   "execution_count": null,
   "metadata": {},
   "outputs": [],
   "source": [
    "# add_ref creates an entry across all tables (entities, keys, objects, resources)\n",
    "\n",
    "er.add_ref(container = object_id, \n",
    "           field='', \n",
    "           key='sq',\n",
    "           resource_name='Estim Ontology',\n",
    "           resource_uri='Estim_Onto_uri',\n",
    "           entity_id='Estim_square_ID',\n",
    "           entity_uri='Estim_square_uri'\n",
    "          )\n",
    "\n",
    "er.add_ref(container = object_id, \n",
    "           field='', \n",
    "           key='duration',\n",
    "           resource_name='Estim Ontology',\n",
    "           resource_uri='Estim_Onto_uri',\n",
    "           entity_id='Estim_duration_ID',\n",
    "           entity_uri='Estim_duration_uri'\n",
    "          )\n",
    "\n",
    "er.add_ref(container = object_id, \n",
    "           field='', \n",
    "           key='amplitude',\n",
    "           resource_name='Estim Ontology',\n",
    "           resource_uri='Estim_Onto_uri',\n",
    "           entity_id='Estim_amplitude_ID',\n",
    "           entity_uri='Estim_amplitude_uri'\n",
    "          )\n",
    "\n",
    "er.add_ref(container = object_id, \n",
    "           field='', \n",
    "           key='start_time',\n",
    "           resource_name='Estim Ontology',\n",
    "           resource_uri='Estim_Onto_uri',\n",
    "           entity_id='Estim_shift_ID',\n",
    "           entity_uri='Estim_shift_uri'\n",
    "          )\n"
   ]
  },
  {
   "cell_type": "code",
   "execution_count": null,
   "metadata": {},
   "outputs": [],
   "source": [
    "er.resources.to_dataframe()"
   ]
  },
  {
   "cell_type": "code",
   "execution_count": null,
   "metadata": {},
   "outputs": [],
   "source": [
    "er.keys.to_dataframe()"
   ]
  },
  {
   "cell_type": "code",
   "execution_count": null,
   "metadata": {},
   "outputs": [],
   "source": [
    "er.entities.to_dataframe()"
   ]
  },
  {
   "cell_type": "code",
   "execution_count": null,
   "metadata": {},
   "outputs": [],
   "source": [
    "k=er.add_key(key_name='sq')\n",
    "er.keys.to_dataframe()"
   ]
  },
  {
   "cell_type": "code",
   "execution_count": null,
   "metadata": {},
   "outputs": [],
   "source": [
    "key_object = er.get_key(key_name='sq')\n",
    "print(key_object)"
   ]
  },
  {
   "cell_type": "markdown",
   "metadata": {},
   "source": [
    "### Write"
   ]
  },
  {
   "cell_type": "code",
   "execution_count": null,
   "metadata": {},
   "outputs": [],
   "source": [
    "from datetime import datetime\n",
    "from dateutil.tz import tzlocal\n",
    "\n",
    "start_time = datetime(2017, 4, 3, 11, tzinfo=tzlocal())\n",
    "create_date = datetime(2017, 4, 15, 12, tzinfo=tzlocal())\n",
    "\n",
    "\n",
    "nwbfile = NWBFile('demo', 'NWB456', start_time,\n",
    "                  file_create_date=create_date)\n",
    "\n",
    "nwbfile.add_acquisition(sft)"
   ]
  },
  {
   "cell_type": "code",
   "execution_count": null,
   "metadata": {},
   "outputs": [],
   "source": [
    "# Write the SFT out to file\n",
    "\n",
    "from pynwb import NWBHDF5IO\n",
    "\n",
    "io = NWBHDF5IO('sft_ert_geno.nwb', mode='w')\n",
    "io.write(nwbfile)\n",
    "io.close()"
   ]
  },
  {
   "cell_type": "code",
   "execution_count": null,
   "metadata": {},
   "outputs": [],
   "source": [
    "# Reading in the file I just wrote\n",
    "\n",
    "io = NWBHDF5IO('sft_ert_testy.nwb', mode='r', load_namespaces=True)\n",
    "sft_nwbfile = io.read()"
   ]
  },
  {
   "cell_type": "code",
   "execution_count": null,
   "metadata": {},
   "outputs": [],
   "source": [
    "# print(sft_nwbfile.acquisition)\n",
    "\n",
    "sft_in = sft_nwbfile.get_acquisition()"
   ]
  },
  {
   "cell_type": "code",
   "execution_count": null,
   "metadata": {},
   "outputs": [],
   "source": [
    "sft_in.to_dataframe()"
   ]
  },
  {
   "cell_type": "code",
   "execution_count": null,
   "metadata": {},
   "outputs": [],
   "source": [
    "sft_in['function_parameters'].target[0]"
   ]
  },
  {
   "cell_type": "code",
   "execution_count": null,
   "metadata": {},
   "outputs": [],
   "source": []
  }
 ],
 "metadata": {
  "kernelspec": {
   "display_name": "pynwb_recurse",
   "language": "python",
   "name": "pynwb_recurse"
  },
  "language_info": {
   "codemirror_mode": {
    "name": "ipython",
    "version": 3
   },
   "file_extension": ".py",
   "mimetype": "text/x-python",
   "name": "python",
   "nbconvert_exporter": "python",
   "pygments_lexer": "ipython3",
   "version": "3.9.5"
  }
 },
 "nbformat": 4,
 "nbformat_minor": 2
}
